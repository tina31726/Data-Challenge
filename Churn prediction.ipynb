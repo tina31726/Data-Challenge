{
 "cells": [
  {
   "cell_type": "markdown",
   "metadata": {},
   "source": [
    "# Define \"Churn\" & Goal"
   ]
  },
  {
   "cell_type": "markdown",
   "metadata": {},
   "source": [
    "Customer churn occurs when customers or subscribers stop doing business with a company or service.\n",
    "But different industries have different churn definition. Take credit card in financial industry for example, churn can be defined as those customers with no purchases for the last 12 months. and there are several signs that precede customer churns:\n",
    "1. Usage is declining\n",
    "2. No usage at all\n",
    "\n",
    "Therefore, in order to extend my research, I assume that the dataset is from credit card transaction record. And our goal is predict what kind of customers are at risk of churning.\n"
   ]
  },
  {
   "cell_type": "markdown",
   "metadata": {},
   "source": [
    "# Data Acquisition and Data Transformation"
   ]
  },
  {
   "cell_type": "code",
   "execution_count": 1,
   "metadata": {
    "ExecuteTime": {
     "end_time": "2019-05-06T04:14:24.475879Z",
     "start_time": "2019-05-06T04:14:18.263845Z"
    }
   },
   "outputs": [],
   "source": [
    "import csv\n",
    "import seaborn as sns\n",
    "import numpy as np\n",
    "from matplotlib import pyplot  as plt\n",
    "import pandas as pd\n",
    "from sklearn import metrics\n",
    "from sklearn.model_selection import train_test_split\n",
    "from imblearn.over_sampling import SMOTE\n",
    "from sklearn.ensemble import RandomForestClassifier, GradientBoostingClassifier\n",
    "from sklearn.metrics import confusion_matrix,recall_score,precision_recall_curve,auc,roc_curve,roc_auc_score,classification_report\n",
    "from sklearn.model_selection import GridSearchCV # for tunnig hyper parameter it will use all combination of given parameters\n",
    "from sklearn.metrics import average_precision_score"
   ]
  },
  {
   "cell_type": "code",
   "execution_count": 2,
   "metadata": {
    "ExecuteTime": {
     "end_time": "2019-05-06T04:14:24.526390Z",
     "start_time": "2019-05-06T04:14:24.519415Z"
    }
   },
   "outputs": [],
   "source": [
    "\n",
    "pd.set_option('display.max_columns', 50)\n",
    "pd.set_option('display.width', 1000)"
   ]
  },
  {
   "cell_type": "code",
   "execution_count": 3,
   "metadata": {
    "ExecuteTime": {
     "end_time": "2019-05-06T04:14:29.275566Z",
     "start_time": "2019-05-06T04:14:24.560642Z"
    }
   },
   "outputs": [],
   "source": [
    "\n",
    "counts = pd.read_csv('counts.csv')\n",
    "spend = pd.read_csv('spend.csv')\n"
   ]
  },
  {
   "cell_type": "code",
   "execution_count": 4,
   "metadata": {
    "ExecuteTime": {
     "end_time": "2019-05-06T04:14:29.409658Z",
     "start_time": "2019-05-06T04:14:29.392078Z"
    }
   },
   "outputs": [
    {
     "name": "stdout",
     "output_type": "stream",
     "text": [
      "<class 'pandas.core.frame.DataFrame'>\n",
      "RangeIndex: 1934028 entries, 0 to 1934027\n",
      "Data columns (total 3 columns):\n",
      "account    object\n",
      "date       object\n",
      "count      int64\n",
      "dtypes: int64(1), object(2)\n",
      "memory usage: 44.3+ MB\n"
     ]
    }
   ],
   "source": [
    "counts.info()"
   ]
  },
  {
   "cell_type": "code",
   "execution_count": 5,
   "metadata": {
    "ExecuteTime": {
     "end_time": "2019-05-06T04:14:29.540631Z",
     "start_time": "2019-05-06T04:14:29.526781Z"
    }
   },
   "outputs": [
    {
     "name": "stdout",
     "output_type": "stream",
     "text": [
      "<class 'pandas.core.frame.DataFrame'>\n",
      "RangeIndex: 1934135 entries, 0 to 1934134\n",
      "Data columns (total 3 columns):\n",
      "account    object\n",
      "date       int64\n",
      "amount     float64\n",
      "dtypes: float64(1), int64(1), object(1)\n",
      "memory usage: 44.3+ MB\n"
     ]
    }
   ],
   "source": [
    "spend.info()"
   ]
  },
  {
   "cell_type": "code",
   "execution_count": 6,
   "metadata": {
    "ExecuteTime": {
     "end_time": "2019-05-06T04:14:30.457540Z",
     "start_time": "2019-05-06T04:14:29.650141Z"
    }
   },
   "outputs": [],
   "source": [
    "spend['date'] = pd.to_datetime(spend['date'],unit='s')\n",
    "counts['date'] = pd.to_datetime(counts['date'])"
   ]
  },
  {
   "cell_type": "code",
   "execution_count": 7,
   "metadata": {
    "ExecuteTime": {
     "end_time": "2019-05-06T04:14:32.839052Z",
     "start_time": "2019-05-06T04:14:30.577505Z"
    }
   },
   "outputs": [
    {
     "name": "stdout",
     "output_type": "stream",
     "text": [
      "<class 'pandas.core.frame.DataFrame'>\n",
      "Int64Index: 1934025 entries, 0 to 1934024\n",
      "Data columns (total 4 columns):\n",
      "account    object\n",
      "date       datetime64[ns]\n",
      "amount     float64\n",
      "count      int64\n",
      "dtypes: datetime64[ns](1), float64(1), int64(1), object(1)\n",
      "memory usage: 73.8+ MB\n"
     ]
    }
   ],
   "source": [
    "# inner join\n",
    "data_merge=pd.merge(spend, counts, on=['account', 'date'])\n",
    "data_merge.info()"
   ]
  },
  {
   "cell_type": "markdown",
   "metadata": {},
   "source": [
    "Only 1934924 transaction record match between counts and spend dataset."
   ]
  },
  {
   "cell_type": "markdown",
   "metadata": {},
   "source": [
    "# Exploratory Data Analysis "
   ]
  },
  {
   "cell_type": "code",
   "execution_count": 8,
   "metadata": {
    "ExecuteTime": {
     "end_time": "2019-05-06T04:14:53.230268Z",
     "start_time": "2019-05-06T04:14:52.813436Z"
    }
   },
   "outputs": [
    {
     "data": {
      "text/plain": [
       "<matplotlib.axes._subplots.AxesSubplot at 0x1a1407d4e0>"
      ]
     },
     "execution_count": 8,
     "metadata": {},
     "output_type": "execute_result"
    },
    {
     "data": {
      "image/png": "[encoded data removed]",
      "text/plain": [
       "<matplotlib.figure.Figure at 0x1a0d59a320>"
      ]
     },
     "metadata": {},
     "output_type": "display_data"
    }
   ],
   "source": [
    "data_merge[data_merge['amount']<2500]['amount'].hist()"
   ]
  },
  {
   "cell_type": "code",
   "execution_count": 107,
   "metadata": {
    "ExecuteTime": {
     "end_time": "2019-05-05T19:19:30.142692Z",
     "start_time": "2019-05-05T19:19:29.773332Z"
    }
   },
   "outputs": [
    {
     "data": {
      "text/plain": [
       "<matplotlib.axes._subplots.AxesSubplot at 0x1a1edb5a20>"
      ]
     },
     "execution_count": 107,
     "metadata": {},
     "output_type": "execute_result"
    },
    {
     "data": {
      "image/png": "[encoded data removed]",
      "text/plain": [
       "<matplotlib.figure.Figure at 0x1a2c298cf8>"
      ]
     },
     "metadata": {},
     "output_type": "display_data"
    }
   ],
   "source": [
    "data_merge[data_merge['count']<150]['count'].hist()\n"
   ]
  },
  {
   "cell_type": "markdown",
   "metadata": {},
   "source": [
    "Based on two histogram showing above, the majority of transaction amount is below \\$500, and the majority of transaction count is below 40. Based on the daily transactions, we could see that the cash flow are very active."
   ]
  },
  {
   "cell_type": "code",
   "execution_count": 17,
   "metadata": {
    "ExecuteTime": {
     "end_time": "2019-05-06T04:19:48.772783Z",
     "start_time": "2019-05-06T04:19:47.828841Z"
    }
   },
   "outputs": [
    {
     "data": {
      "text/plain": [
       "[<matplotlib.lines.Line2D at 0x1a0e1b8518>]"
      ]
     },
     "execution_count": 17,
     "metadata": {},
     "output_type": "execute_result"
    },
    {
     "data": {
      "image/png": "[encoded data removed]",
      "text/plain": [
       "<matplotlib.figure.Figure at 0x1a0e38fc18>"
      ]
     },
     "metadata": {},
     "output_type": "display_data"
    }
   ],
   "source": [
    "data_time=data_merge.set_index('date')\n",
    "data_month=data_time.resample('M').sum()\n",
    "plt.figure(figsize=(20,6))\n",
    "plt.plot(data_month['amount'])\n",
    "\n"
   ]
  },
  {
   "cell_type": "code",
   "execution_count": 19,
   "metadata": {
    "ExecuteTime": {
     "end_time": "2019-05-06T04:23:37.685102Z",
     "start_time": "2019-05-06T04:23:37.326236Z"
    }
   },
   "outputs": [
    {
     "data": {
      "text/plain": [
       "[<matplotlib.lines.Line2D at 0x1a0ea6c0b8>]"
      ]
     },
     "execution_count": 19,
     "metadata": {},
     "output_type": "execute_result"
    },
    {
     "data": {
      "image/png": "[encoded data removed]",
      "text/plain": [
       "<matplotlib.figure.Figure at 0x1a0e9b7278>"
      ]
     },
     "metadata": {},
     "output_type": "display_data"
    }
   ],
   "source": [
    "plt.figure(figsize=(20,6))\n",
    "plt.plot(data_month['count'])"
   ]
  },
  {
   "cell_type": "markdown",
   "metadata": {},
   "source": [
    "Based on time series from count and amount, although the trend is increasing, but you can observe the seasonality inside the trend."
   ]
  },
  {
   "cell_type": "code",
   "execution_count": 108,
   "metadata": {
    "ExecuteTime": {
     "end_time": "2019-05-05T19:19:31.470873Z",
     "start_time": "2019-05-05T19:19:30.834119Z"
    }
   },
   "outputs": [],
   "source": [
    "account_agg=data_merge.groupby('account').sum().reset_index()\n",
    "account_agg=account_agg.rename(columns = {'count':'total_count','amount':'total_amount'})"
   ]
  },
  {
   "cell_type": "markdown",
   "metadata": {},
   "source": [
    "#  Feature Engineering"
   ]
  },
  {
   "cell_type": "markdown",
   "metadata": {},
   "source": [
    "Becasue it's credit card dataset, it might be highly influenced by seasonality, we can aggregate amount and count based on each season per year.\n",
    "In addition, to define the theshold of churning, we need to create monthly usage feature"
   ]
  },
  {
   "cell_type": "markdown",
   "metadata": {},
   "source": [
    "## Aggregate month"
   ]
  },
  {
   "cell_type": "code",
   "execution_count": 109,
   "metadata": {
    "ExecuteTime": {
     "end_time": "2019-05-05T19:19:45.850739Z",
     "start_time": "2019-05-05T19:19:32.256738Z"
    }
   },
   "outputs": [],
   "source": [
    "data_merge['date'] = pd.to_datetime(data_merge['date'])\n",
    "data_time=data_merge.set_index('date')\n",
    "data_time.index=data_time.index.strftime('%Y-%m')\n",
    "data_time.index.name='date'"
   ]
  },
  {
   "cell_type": "code",
   "execution_count": 110,
   "metadata": {
    "ExecuteTime": {
     "end_time": "2019-05-05T19:19:47.714299Z",
     "start_time": "2019-05-05T19:19:46.389877Z"
    }
   },
   "outputs": [],
   "source": [
    "data_agg_month=data_time.groupby(['date','account']).count().reset_index()\n",
    "\n",
    "data_agg_month['month_count']=1\n",
    "\n",
    "data_agg_month['date'] = pd.to_datetime(data_agg_month['date'])\n",
    "data_agg_month=data_agg_month.set_index('date')\n",
    "\n",
    "account_agg=account_agg.join(data_agg_month['2017'].groupby('account').count()[['month_count']], on='account')\n",
    "account_agg=account_agg.rename(columns = {'month_count':'2017_month_count'})\n",
    "\n",
    "account_agg=account_agg.join(data_agg_month['2018'].groupby('account').count()[['month_count']], on='account')\n",
    "account_agg=account_agg.rename(columns = {'month_count':'2018_month_count'})\n",
    "\n",
    "account_agg=account_agg.join(data_agg_month['2019'].groupby('account').count()[['month_count']], on='account')\n",
    "account_agg=account_agg.rename(columns = {'month_count':'2019_month_count'})"
   ]
  },
  {
   "cell_type": "markdown",
   "metadata": {
    "ExecuteTime": {
     "end_time": "2019-05-04T22:16:13.103625Z",
     "start_time": "2019-05-04T22:16:13.100816Z"
    }
   },
   "source": [
    "## Aggregate Season"
   ]
  },
  {
   "cell_type": "code",
   "execution_count": 111,
   "metadata": {
    "ExecuteTime": {
     "end_time": "2019-05-05T19:19:49.713582Z",
     "start_time": "2019-05-05T19:19:48.350152Z"
    }
   },
   "outputs": [],
   "source": [
    "data_agg_season=data_time.groupby(['date','account']).sum().reset_index()\n",
    "\n",
    "data_agg_season.loc[(data_agg_season['date']=='2017-08'),'date']='2017-Summer'\n",
    "data_agg_season.loc[(data_agg_season['date']=='2017-09')|(data_agg_season['date']=='2017-10')|(data_agg_season['date']=='2017-11'),'date']='2017-Fall'\n",
    "data_agg_season.loc[(data_agg_season['date']=='2017-12')|(data_agg_season['date']=='2018-01')|(data_agg_season['date']=='2018-02'),'date']='2017-Winter'\n",
    "\n",
    "data_agg_season.loc[(data_agg_season['date']=='2018-03')|(data_agg_season['date']=='2018-04')|(data_agg_season['date']=='2018-05'),'date']='2018-Spring'\n",
    "data_agg_season.loc[(data_agg_season['date']=='2018-06')|(data_agg_season['date']=='2018-07')|(data_agg_season['date']=='2018-08'),'date']='2018-Summer'\n",
    "data_agg_season.loc[(data_agg_season['date']=='2018-09')|(data_agg_season['date']=='2018-10')|(data_agg_season['date']=='2018-11'),'date']='2018-Fall'\n",
    "data_agg_season.loc[(data_agg_season['date']=='2018-12')|(data_agg_season['date']=='2019-01')|(data_agg_season['date']=='2019-02'),'date']='2018-Winter'\n",
    "\n",
    "data_agg_season.loc[(data_agg_season['date']=='2019-03'),'date']='2019-Spring'"
   ]
  },
  {
   "cell_type": "code",
   "execution_count": 112,
   "metadata": {
    "ExecuteTime": {
     "end_time": "2019-05-05T19:19:50.898859Z",
     "start_time": "2019-05-05T19:19:50.352495Z"
    }
   },
   "outputs": [],
   "source": [
    "\n",
    "account_agg=account_agg.join(data_agg_season[data_agg_season['date']=='2017-Summer'].groupby('account').sum(), on='account')\n",
    "account_agg=account_agg.rename(columns = {'amount':'2017-Summer-amount','count':'2017-Summer-count'})\n",
    "account_agg=account_agg.join(data_agg_season[data_agg_season['date']=='2017-Fall'].groupby('account').sum(), on='account')\n",
    "account_agg=account_agg.rename(columns = {'amount':'2017-Fall-amount','count':'2017-Fall-count'})\n",
    "account_agg=account_agg.join(data_agg_season[data_agg_season['date']=='2017-Winter'].groupby('account').sum(), on='account')\n",
    "account_agg=account_agg.rename(columns = {'amount':'2017-Winter-amount','count':'2017-Winter-count'})\n",
    "\n",
    "account_agg=account_agg.join(data_agg_season[data_agg_season['date']=='2018-Spring'].groupby('account').sum(), on='account')\n",
    "account_agg=account_agg.rename(columns = {'amount':'2018-Spring-amount','count':'2018-Spring-count'})\n",
    "account_agg=account_agg.join(data_agg_season[data_agg_season['date']=='2018-Summer'].groupby('account').sum(), on='account')\n",
    "account_agg=account_agg.rename(columns = {'amount':'2018-Summer-amount','count':'2018-Summer-count'})\n",
    "account_agg=account_agg.join(data_agg_season[data_agg_season['date']=='2018-Fall'].groupby('account').sum(), on='account')\n",
    "account_agg=account_agg.rename(columns = {'amount':'2018-Fall-amount','count':'2018-Fall-count'})\n",
    "account_agg=account_agg.join(data_agg_season[data_agg_season['date']=='2018-Winter'].groupby('account').sum(), on='account')\n",
    "account_agg=account_agg.rename(columns = {'amount':'2018-Winter-amount','count':'2018-Winter-count'})\n",
    "\n",
    "account_agg=account_agg.join(data_agg_season[data_agg_season['date']=='2019-Spring'].groupby('account').sum(), on='account')\n",
    "account_agg=account_agg.rename(columns = {'amount':'2019-Spring-amount','count':'2019-Spring-count'})"
   ]
  },
  {
   "cell_type": "code",
   "execution_count": 113,
   "metadata": {
    "ExecuteTime": {
     "end_time": "2019-05-05T19:19:51.603487Z",
     "start_time": "2019-05-05T19:19:51.585024Z"
    }
   },
   "outputs": [],
   "source": [
    "#Average each season (only 2017-summer and 2019-spring have 1 month, others have full three months)\n",
    "account_agg.iloc[:,8:20] = account_agg.iloc[:,8:20]/3"
   ]
  },
  {
   "cell_type": "markdown",
   "metadata": {},
   "source": [
    "### Fill null value "
   ]
  },
  {
   "cell_type": "code",
   "execution_count": 114,
   "metadata": {
    "ExecuteTime": {
     "end_time": "2019-05-05T19:19:52.334488Z",
     "start_time": "2019-05-05T19:19:52.323488Z"
    }
   },
   "outputs": [],
   "source": [
    "account_agg=account_agg.fillna(0)\n",
    "data_combine=account_agg.drop(['total_amount', 'total_count'], axis=1)"
   ]
  },
  {
   "cell_type": "markdown",
   "metadata": {},
   "source": [
    "## Data Label Definition "
   ]
  },
  {
   "cell_type": "markdown",
   "metadata": {},
   "source": [
    "Becasue this is credit card dataset, we can define the threshold for churning as customer who doesn't have any transaction over a 12 month period in 2017-2019, then they would be labeled as churning, otherwise not.\n"
   ]
  },
  {
   "cell_type": "code",
   "execution_count": 115,
   "metadata": {
    "ExecuteTime": {
     "end_time": "2019-05-05T19:20:05.356239Z",
     "start_time": "2019-05-05T19:20:05.329875Z"
    }
   },
   "outputs": [],
   "source": [
    "data_combine['label']=-1\n",
    "\n",
    "# data_combine.loc[(data_combine['2018_month_count']<6), 'label'] = 1\n",
    "# data_combine.loc[(data_combine['2018_month_count']>=6)&(data_combine['2017_total_count']==0)&(data_combine['2019_total_count']==0), 'label'] = 1\n",
    "\n",
    "data_combine['month_usage']=data_combine['2018_month_count']+data_combine['2019_month_count']\n",
    "data_combine['month_usage']=data_combine['month_usage']+data_combine['2017_month_count']\n",
    "data_combine.loc[(data_combine['month_usage']<=8)&(data_combine['label']==-1), 'label'] = 1\n",
    "\n",
    "data_combine.loc[(data_combine['label']==-1),'label']=0"
   ]
  },
  {
   "cell_type": "code",
   "execution_count": 116,
   "metadata": {
    "ExecuteTime": {
     "end_time": "2019-05-05T19:20:08.701761Z",
     "start_time": "2019-05-05T19:20:08.685022Z"
    }
   },
   "outputs": [
    {
     "data": {
      "text/html": [
       "<div>\n",
       "<style scoped>\n",
       "    .dataframe tbody tr th:only-of-type {\n",
       "        vertical-align: middle;\n",
       "    }\n",
       "\n",
       "    .dataframe tbody tr th {\n",
       "        vertical-align: top;\n",
       "    }\n",
       "\n",
       "    .dataframe thead th {\n",
       "        text-align: right;\n",
       "    }\n",
       "</style>\n",
       "<table border=\"1\" class=\"dataframe\">\n",
       "  <thead>\n",
       "    <tr style=\"text-align: right;\">\n",
       "      <th></th>\n",
       "      <th>account</th>\n",
       "    </tr>\n",
       "    <tr>\n",
       "      <th>label</th>\n",
       "      <th></th>\n",
       "    </tr>\n",
       "  </thead>\n",
       "  <tbody>\n",
       "    <tr>\n",
       "      <th>0</th>\n",
       "      <td>8151</td>\n",
       "    </tr>\n",
       "    <tr>\n",
       "      <th>1</th>\n",
       "      <td>1848</td>\n",
       "    </tr>\n",
       "  </tbody>\n",
       "</table>\n",
       "</div>"
      ],
      "text/plain": [
       "       account\n",
       "label         \n",
       "0         8151\n",
       "1         1848"
      ]
     },
     "execution_count": 116,
     "metadata": {},
     "output_type": "execute_result"
    }
   ],
   "source": [
    "data_combine.groupby('label').count()[['account']]"
   ]
  },
  {
   "cell_type": "code",
   "execution_count": 117,
   "metadata": {
    "ExecuteTime": {
     "end_time": "2019-05-05T19:20:09.432185Z",
     "start_time": "2019-05-05T19:20:09.277928Z"
    }
   },
   "outputs": [
    {
     "data": {
      "text/plain": [
       "<matplotlib.axes._subplots.AxesSubplot at 0x1a392ca1d0>"
      ]
     },
     "execution_count": 117,
     "metadata": {},
     "output_type": "execute_result"
    },
    {
     "data": {
      "image/png": "[encoded data removed]",
      "text/plain": [
       "<matplotlib.figure.Figure at 0x1a2c298240>"
      ]
     },
     "metadata": {},
     "output_type": "display_data"
    }
   ],
   "source": [
    "sns.countplot(\"label\",data=data_combine)"
   ]
  },
  {
   "cell_type": "markdown",
   "metadata": {},
   "source": [
    "After defining the threshold, the total number of churn customer accounts for only 18%. So it's a slightly imbalanced data. In order to solve the issue, we can run a resampling technique, SMOTE, which would help us create synthetic data point for minority group later."
   ]
  },
  {
   "cell_type": "code",
   "execution_count": 118,
   "metadata": {
    "ExecuteTime": {
     "end_time": "2019-05-05T19:20:12.442991Z",
     "start_time": "2019-05-05T19:20:12.424133Z"
    }
   },
   "outputs": [
    {
     "name": "stdout",
     "output_type": "stream",
     "text": [
      "<class 'pandas.core.frame.DataFrame'>\n",
      "RangeIndex: 9999 entries, 0 to 9998\n",
      "Data columns (total 18 columns):\n",
      "account               9999 non-null object\n",
      "2017-Summer-amount    9999 non-null float64\n",
      "2017-Summer-count     9999 non-null float64\n",
      "2017-Fall-amount      9999 non-null float64\n",
      "2017-Fall-count       9999 non-null float64\n",
      "2017-Winter-amount    9999 non-null float64\n",
      "2017-Winter-count     9999 non-null float64\n",
      "2018-Spring-amount    9999 non-null float64\n",
      "2018-Spring-count     9999 non-null float64\n",
      "2018-Summer-amount    9999 non-null float64\n",
      "2018-Summer-count     9999 non-null float64\n",
      "2018-Fall-amount      9999 non-null float64\n",
      "2018-Fall-count       9999 non-null float64\n",
      "2018-Winter-amount    9999 non-null float64\n",
      "2018-Winter-count     9999 non-null float64\n",
      "2019-Spring-amount    9999 non-null float64\n",
      "2019-Spring-count     9999 non-null float64\n",
      "label                 9999 non-null int64\n",
      "dtypes: float64(16), int64(1), object(1)\n",
      "memory usage: 1.4+ MB\n"
     ]
    }
   ],
   "source": [
    "data_combine=data_combine.drop(['month_usage','2018_month_count','2019_month_count','2017_month_count'], axis=1)\n",
    "data_combine.info()"
   ]
  },
  {
   "cell_type": "code",
   "execution_count": 119,
   "metadata": {
    "ExecuteTime": {
     "end_time": "2019-05-05T19:20:13.034075Z",
     "start_time": "2019-05-05T19:20:13.028061Z"
    }
   },
   "outputs": [],
   "source": [
    "df_account=data_combine[['account']]"
   ]
  },
  {
   "cell_type": "code",
   "execution_count": 120,
   "metadata": {
    "ExecuteTime": {
     "end_time": "2019-05-05T19:20:13.788835Z",
     "start_time": "2019-05-05T19:20:13.780656Z"
    }
   },
   "outputs": [],
   "source": [
    "data_combine=data_combine.drop(['account'], axis=1)\n"
   ]
  },
  {
   "cell_type": "markdown",
   "metadata": {},
   "source": [
    "Now in the dataset, there are 9999 accounts (customer) and 16 features"
   ]
  },
  {
   "cell_type": "markdown",
   "metadata": {},
   "source": [
    "# Data Modeling"
   ]
  },
  {
   "cell_type": "markdown",
   "metadata": {},
   "source": [
    "Before the training, we split the data into train and test set first, then we do normalization in train and test set. And in order to evaluate whether to do sampling or not (due to we don't have highly imbalance data issue), we will train two models with two dataset, one without sampling and the other with sampling, then use differenct metrics to evaluate which model is better.\n"
   ]
  },
  {
   "cell_type": "markdown",
   "metadata": {},
   "source": [
    "## Split data into train and test "
   ]
  },
  {
   "cell_type": "code",
   "execution_count": 25,
   "metadata": {
    "ExecuteTime": {
     "end_time": "2019-05-05T16:05:24.321212Z",
     "start_time": "2019-05-05T16:05:24.312159Z"
    }
   },
   "outputs": [],
   "source": [
    "def data_prepration(x): # preparing data for training and testing as we are going to use different data \n",
    "    #again and again so make a function\n",
    "    x_features= x.ix[:,x.columns != \"label\"]\n",
    "    x_labels=x.ix[:,x.columns==\"label\"]\n",
    "    x_features_train,x_features_test,x_labels_train,x_labels_test = train_test_split(x_features,x_labels,test_size=0.3)\n",
    "    print(\"length of training data\")\n",
    "    print(len(x_features_train))\n",
    "    print(\"length of test data\")\n",
    "    print(len(x_features_test))\n",
    "    return(x_features_train,x_features_test,x_labels_train,x_labels_test)"
   ]
  },
  {
   "cell_type": "code",
   "execution_count": 147,
   "metadata": {
    "ExecuteTime": {
     "end_time": "2019-05-05T19:28:42.798025Z",
     "start_time": "2019-05-05T19:28:42.775517Z"
    }
   },
   "outputs": [
    {
     "name": "stdout",
     "output_type": "stream",
     "text": [
      "length of training data\n",
      "6999\n",
      "length of test data\n",
      "3000\n"
     ]
    },
    {
     "name": "stderr",
     "output_type": "stream",
     "text": [
      "/Users/YiChen/anaconda3/lib/python3.6/site-packages/ipykernel_launcher.py:3: DeprecationWarning: \n",
      ".ix is deprecated. Please use\n",
      ".loc for label based indexing or\n",
      ".iloc for positional indexing\n",
      "\n",
      "See the documentation here:\n",
      "http://pandas.pydata.org/pandas-docs/stable/indexing.html#ix-indexer-is-deprecated\n",
      "  This is separate from the ipykernel package so we can avoid doing imports until\n"
     ]
    }
   ],
   "source": [
    "data_train_X,data_test_X,data_train_y,data_test_y=data_prepration(data_combine)\n",
    "columns = data_train_X.columns"
   ]
  },
  {
   "cell_type": "markdown",
   "metadata": {},
   "source": [
    "## Normalization Data"
   ]
  },
  {
   "cell_type": "code",
   "execution_count": 148,
   "metadata": {
    "ExecuteTime": {
     "end_time": "2019-05-05T19:28:47.167890Z",
     "start_time": "2019-05-05T19:28:47.152871Z"
    }
   },
   "outputs": [],
   "source": [
    "from sklearn.preprocessing import StandardScaler \n",
    "sc = StandardScaler()\n",
    "data_train_X = sc.fit_transform(data_train_X)\n",
    "data_test_X = sc.transform(data_test_X)"
   ]
  },
  {
   "cell_type": "code",
   "execution_count": 149,
   "metadata": {
    "ExecuteTime": {
     "end_time": "2019-05-05T19:28:47.756765Z",
     "start_time": "2019-05-05T19:28:47.738694Z"
    }
   },
   "outputs": [
    {
     "name": "stdout",
     "output_type": "stream",
     "text": [
      "Number of Normal account before sampling  5711\n",
      "Number of Churn account 1288\n",
      "Proportion of Normal data  before sampling data is  0.8159737105300757\n",
      "Proportion of Churn data  before sampling data is  0.18402628946992428\n"
     ]
    }
   ],
   "source": [
    "print(\"Number of Normal account before sampling \",len(data_train_y[data_train_y[\"label\"]==0]))\n",
    "print(\"Number of Churn account\",len(data_train_y[data_train_y[\"label\"]==1]))\n",
    "print(\"Proportion of Normal data  before sampling data is \",len(data_train_y[data_train_y[\"label\"]==0])/len(data_train_y))\n",
    "print(\"Proportion of Churn data  before sampling data is \",len(data_train_y[data_train_y[\"label\"]==1])/len(data_train_y))"
   ]
  },
  {
   "cell_type": "markdown",
   "metadata": {},
   "source": [
    "## Sampling : SMOTE "
   ]
  },
  {
   "cell_type": "code",
   "execution_count": 150,
   "metadata": {
    "ExecuteTime": {
     "end_time": "2019-05-05T19:28:48.904498Z",
     "start_time": "2019-05-05T19:28:48.797444Z"
    }
   },
   "outputs": [
    {
     "name": "stdout",
     "output_type": "stream",
     "text": [
      "length of oversampled data is  11422\n",
      "Number of Normal account in oversampled data 5711\n",
      "Number of Churn account 5711\n",
      "Proportion of Normal data in oversampled data is  0.5\n",
      "Proportion of Churn data in oversampled data is  0.5\n"
     ]
    },
    {
     "name": "stderr",
     "output_type": "stream",
     "text": [
      "/Users/YiChen/anaconda3/lib/python3.6/site-packages/sklearn/utils/validation.py:761: DataConversionWarning: A column-vector y was passed when a 1d array was expected. Please change the shape of y to (n_samples, ), for example using ravel().\n",
      "  y = column_or_1d(y, warn=True)\n"
     ]
    }
   ],
   "source": [
    "\n",
    "os = SMOTE(random_state=0) #   We are using SMOTE as the function for oversampling\n",
    "\n",
    "os_data_X,os_data_y=os.fit_sample(data_train_X,data_train_y)\n",
    "os_data_X = pd.DataFrame(data=os_data_X,columns=columns )\n",
    "os_data_y= pd.DataFrame(data=os_data_y,columns=[\"label\"])\n",
    "\n",
    "# we can Check the numbers of our data\n",
    "print(\"length of oversampled data is \",len(os_data_X))\n",
    "print(\"Number of Normal account in oversampled data\",len(os_data_y[os_data_y[\"label\"]==0]))\n",
    "print(\"Number of Churn account\",len(os_data_y[os_data_y[\"label\"]==1]))\n",
    "print(\"Proportion of Normal data in oversampled data is \",len(os_data_y[os_data_y[\"label\"]==0])/len(os_data_X))\n",
    "print(\"Proportion of Churn data in oversampled data is \",len(os_data_y[os_data_y[\"label\"]==1])/len(os_data_X))"
   ]
  },
  {
   "cell_type": "markdown",
   "metadata": {},
   "source": [
    "To avoid overfitting, which occurs when exact replicas of minority instances are added to the main dataset, we choose SMOTE resampling algorithm to create synthetic data based on feature space. After sampling, the ratio between normal and churn is 1:1."
   ]
  },
  {
   "cell_type": "markdown",
   "metadata": {},
   "source": [
    "##  Random Forest"
   ]
  },
  {
   "cell_type": "markdown",
   "metadata": {},
   "source": [
    "There are two main reason I choose Random Forest as my model; first, it provides feature importance by measuring the relative importance of each feature, which is really helpful for determining the potential factor why customer is at risk for churning. Another reason is random forest can handle unbalanced data that the larger class will get a low error rate while the smaller class will have a larger error rate. Based on these two reasons, random forest is really suitable for this dataset situation.\n",
    "\n"
   ]
  },
  {
   "cell_type": "code",
   "execution_count": 41,
   "metadata": {
    "ExecuteTime": {
     "end_time": "2019-05-05T16:08:57.987251Z",
     "start_time": "2019-05-05T16:08:57.956453Z"
    }
   },
   "outputs": [],
   "source": [
    "rf= RandomForestClassifier()"
   ]
  },
  {
   "cell_type": "markdown",
   "metadata": {},
   "source": [
    "## Tuning Parameter"
   ]
  },
  {
   "cell_type": "markdown",
   "metadata": {},
   "source": [
    "We need to train the model with train set first, so I use grid_search function to do cross validation and to find the best parameter for random forest. There are 3 parameter we need to tune: number of decision tree, tree max depth, and criterion.\n",
    "\n",
    "And due to the two datasets (with sampling and withoug sampling), we will tune parameter twice."
   ]
  },
  {
   "cell_type": "code",
   "execution_count": 42,
   "metadata": {
    "ExecuteTime": {
     "end_time": "2019-05-05T16:08:58.753602Z",
     "start_time": "2019-05-05T16:08:58.748670Z"
    }
   },
   "outputs": [],
   "source": [
    "parameter_list = { 'n_estimators':[50,100,150], 'criterion': ['gini','entropy'], 'max_depth':[50,100,150] }"
   ]
  },
  {
   "cell_type": "code",
   "execution_count": 183,
   "metadata": {
    "ExecuteTime": {
     "end_time": "2019-05-05T21:08:09.878626Z",
     "start_time": "2019-05-05T21:06:30.871823Z"
    }
   },
   "outputs": [],
   "source": [
    "grid_search = GridSearchCV(estimator = rf, param_grid = parameter_list, scoring = 'f1', cv = 5)\n",
    "grid_search = grid_search.fit(data_train_X, data_train_y.values.ravel())"
   ]
  },
  {
   "cell_type": "code",
   "execution_count": 184,
   "metadata": {
    "ExecuteTime": {
     "end_time": "2019-05-05T21:08:10.494929Z",
     "start_time": "2019-05-05T21:08:10.468734Z"
    }
   },
   "outputs": [
    {
     "name": "stdout",
     "output_type": "stream",
     "text": [
      "Best: 0.904434 using {'criterion': 'gini', 'max_depth': 50, 'n_estimators': 150}\n",
      "0.901158 (0.011580) with: {'criterion': 'gini', 'max_depth': 50, 'n_estimators': 50}\n",
      "0.899027 (0.007764) with: {'criterion': 'gini', 'max_depth': 50, 'n_estimators': 100}\n",
      "0.904434 (0.008044) with: {'criterion': 'gini', 'max_depth': 50, 'n_estimators': 150}\n",
      "0.897374 (0.008418) with: {'criterion': 'gini', 'max_depth': 100, 'n_estimators': 50}\n",
      "0.899136 (0.010222) with: {'criterion': 'gini', 'max_depth': 100, 'n_estimators': 100}\n",
      "0.899880 (0.010155) with: {'criterion': 'gini', 'max_depth': 100, 'n_estimators': 150}\n",
      "0.901172 (0.006554) with: {'criterion': 'gini', 'max_depth': 150, 'n_estimators': 50}\n",
      "0.899282 (0.010302) with: {'criterion': 'gini', 'max_depth': 150, 'n_estimators': 100}\n",
      "0.898441 (0.008207) with: {'criterion': 'gini', 'max_depth': 150, 'n_estimators': 150}\n",
      "0.896088 (0.006237) with: {'criterion': 'entropy', 'max_depth': 50, 'n_estimators': 50}\n",
      "0.898264 (0.006217) with: {'criterion': 'entropy', 'max_depth': 50, 'n_estimators': 100}\n",
      "0.897517 (0.006652) with: {'criterion': 'entropy', 'max_depth': 50, 'n_estimators': 150}\n",
      "0.900001 (0.004563) with: {'criterion': 'entropy', 'max_depth': 100, 'n_estimators': 50}\n",
      "0.900585 (0.008708) with: {'criterion': 'entropy', 'max_depth': 100, 'n_estimators': 100}\n",
      "0.896979 (0.006797) with: {'criterion': 'entropy', 'max_depth': 100, 'n_estimators': 150}\n",
      "0.896671 (0.004201) with: {'criterion': 'entropy', 'max_depth': 150, 'n_estimators': 50}\n",
      "0.899208 (0.007480) with: {'criterion': 'entropy', 'max_depth': 150, 'n_estimators': 100}\n",
      "0.901393 (0.005161) with: {'criterion': 'entropy', 'max_depth': 150, 'n_estimators': 150}\n"
     ]
    }
   ],
   "source": [
    "# summarize results\n",
    "print(\"Best: %f using %s\" % (grid_search.best_score_, grid_search.best_params_))\n",
    "means = grid_search.cv_results_['mean_test_score']\n",
    "stds = grid_search.cv_results_['std_test_score']\n",
    "params = grid_search.cv_results_['params']\n",
    "for mean, stdev, param in zip(means, stds, params):\n",
    "    print(\"%f (%f) with: %r\" % (mean, stdev, param))"
   ]
  },
  {
   "cell_type": "code",
   "execution_count": 43,
   "metadata": {
    "ExecuteTime": {
     "end_time": "2019-05-05T16:11:47.370667Z",
     "start_time": "2019-05-05T16:09:00.083141Z"
    }
   },
   "outputs": [],
   "source": [
    "grid_search = GridSearchCV(estimator = rf, param_grid = parameter_list, scoring = 'f1', cv = 5)\n",
    "grid_search = grid_search.fit(os_data_X, os_data_y.values.ravel())"
   ]
  },
  {
   "cell_type": "code",
   "execution_count": 49,
   "metadata": {
    "ExecuteTime": {
     "end_time": "2019-05-05T16:12:47.645699Z",
     "start_time": "2019-05-05T16:12:47.635444Z"
    }
   },
   "outputs": [
    {
     "name": "stdout",
     "output_type": "stream",
     "text": [
      "Best: 0.971020 using {'criterion': 'entropy', 'max_depth': 50, 'n_estimators': 100}\n",
      "0.970737 (0.003315) with: {'criterion': 'gini', 'max_depth': 50, 'n_estimators': 50}\n",
      "0.969964 (0.003246) with: {'criterion': 'gini', 'max_depth': 50, 'n_estimators': 100}\n",
      "0.969800 (0.001702) with: {'criterion': 'gini', 'max_depth': 50, 'n_estimators': 150}\n",
      "0.969193 (0.003259) with: {'criterion': 'gini', 'max_depth': 100, 'n_estimators': 50}\n",
      "0.970574 (0.002190) with: {'criterion': 'gini', 'max_depth': 100, 'n_estimators': 100}\n",
      "0.970778 (0.002165) with: {'criterion': 'gini', 'max_depth': 100, 'n_estimators': 150}\n",
      "0.969257 (0.002083) with: {'criterion': 'gini', 'max_depth': 150, 'n_estimators': 50}\n",
      "0.970098 (0.002454) with: {'criterion': 'gini', 'max_depth': 150, 'n_estimators': 100}\n",
      "0.970115 (0.002531) with: {'criterion': 'gini', 'max_depth': 150, 'n_estimators': 150}\n",
      "0.970915 (0.002400) with: {'criterion': 'entropy', 'max_depth': 50, 'n_estimators': 50}\n",
      "0.971020 (0.001727) with: {'criterion': 'entropy', 'max_depth': 50, 'n_estimators': 100}\n",
      "0.970243 (0.002565) with: {'criterion': 'entropy', 'max_depth': 50, 'n_estimators': 150}\n",
      "0.970104 (0.002185) with: {'criterion': 'entropy', 'max_depth': 100, 'n_estimators': 50}\n",
      "0.970250 (0.001909) with: {'criterion': 'entropy', 'max_depth': 100, 'n_estimators': 100}\n",
      "0.970799 (0.002714) with: {'criterion': 'entropy', 'max_depth': 100, 'n_estimators': 150}\n",
      "0.970590 (0.002839) with: {'criterion': 'entropy', 'max_depth': 150, 'n_estimators': 50}\n",
      "0.970786 (0.002602) with: {'criterion': 'entropy', 'max_depth': 150, 'n_estimators': 100}\n",
      "0.970284 (0.001995) with: {'criterion': 'entropy', 'max_depth': 150, 'n_estimators': 150}\n"
     ]
    }
   ],
   "source": [
    "# summarize results\n",
    "print(\"Best: %f using %s\" % (grid_search.best_score_, grid_search.best_params_))\n",
    "means = grid_search.cv_results_['mean_test_score']\n",
    "stds = grid_search.cv_results_['std_test_score']\n",
    "params = grid_search.cv_results_['params']\n",
    "for mean, stdev, param in zip(means, stds, params):\n",
    "    print(\"%f (%f) with: %r\" % (mean, stdev, param))"
   ]
  },
  {
   "cell_type": "markdown",
   "metadata": {},
   "source": [
    "After tuning the parameters, we find out that the the dataset with sampling needs 100 trees, 50 tree max depth and entropy as the criterion for training the model; and the dataset without sampling needs 150 trees, 50 tree max depth and gini as the criterion."
   ]
  },
  {
   "cell_type": "markdown",
   "metadata": {},
   "source": [
    "## Model Evaluation"
   ]
  },
  {
   "cell_type": "markdown",
   "metadata": {},
   "source": [
    "### Cost loss Evaluation"
   ]
  },
  {
   "cell_type": "markdown",
   "metadata": {},
   "source": [
    "Before compare which model is better, we can define the cost of false positive(incorrectly predicted as churn) and false negative(incorrectly predicted as will not churn), then develop the cost loss function to compare two models. \n",
    "\n",
    "I made the following cost assumptions to explore the cost implications of implementing the model.\n",
    "\n",
    "1. False negatives can be a big problem, because the model incorrectly predicts that a churning customer will stay. I will lose the customer and will have to pay all the costs of acquiring a replacement customer, including foregone revenue, advertising costs, administrative costs, etc. I will assume \\$500. This is the cost of false negatives.\n",
    "\n",
    "2. If the model identifies customer as churning, I will assume a retention incentive in the amount of \\$100.This is the cost of both true positive and false positive outcomes. In the case of false positives (the customer is happy, but the model mistakenly predicted churn), I will “waste” the \\$100 concession.\n",
    "\n",
    "It’s clear that false negatives are substantially more costly than false positives. Therefore, I focused on minimizing the cost loss function ( basically minimized the number of false negatives) that looks like this:<br>\n",
    "Cost loss function =500∗FN(C) + 100∗FP(C)\n",
    "\n",
    "\n"
   ]
  },
  {
   "cell_type": "code",
   "execution_count": 194,
   "metadata": {
    "ExecuteTime": {
     "end_time": "2019-05-05T21:52:13.362745Z",
     "start_time": "2019-05-05T21:52:13.074125Z"
    }
   },
   "outputs": [],
   "source": [
    "def cost_loss(fn,fp):\n",
    "    return 500*fn+100*fp"
   ]
  },
  {
   "cell_type": "code",
   "execution_count": 195,
   "metadata": {
    "ExecuteTime": {
     "end_time": "2019-05-05T21:53:17.772646Z",
     "start_time": "2019-05-05T21:53:17.675506Z"
    }
   },
   "outputs": [],
   "source": [
    "def model(model,features_train,features_test,labels_train,labels_test):\n",
    "    clf= model\n",
    "    clf.fit(features_train,labels_train.values.ravel())\n",
    "    pred=clf.predict(features_test)\n",
    "    predict_y=rf.predict_proba(features_test)[:,1]\n",
    "    cnf_matrix=confusion_matrix(labels_test,pred)\n",
    "\n",
    "    fig= plt.figure(figsize=(6,3))# to plot the graph\n",
    "    print(\"TP:\",cnf_matrix[1,1,]) # no of fraud transaction which are predicted fraud\n",
    "    print(\"TN:\",cnf_matrix[0,0]) # no. of normal transaction which are predited normal\n",
    "    print(\"FP:\",cnf_matrix[0,1]) # no of normal transaction which are predicted fraud\n",
    "    print(\"FN:\",cnf_matrix[1,0]) # no of fraud Transaction which are predicted normal\n",
    "    print('Cost loss: $',cost_loss(cnf_matrix[1,0],cnf_matrix[0,1]))\n",
    "    sns.heatmap(cnf_matrix,cmap=\"coolwarm_r\",annot=True,linewidths=0.5)\n",
    "    plt.title(\"Confusion_matrix\")\n",
    "    plt.xlabel(\"Predicted_class\")\n",
    "    plt.ylabel(\"Real class\")\n",
    "    plt.show()\n",
    "    print(\"\\n----------Classification Report------------------------------------\")\n",
    "    print(classification_report(labels_test,pred))\n",
    "    return pred,predict_y\n",
    "   "
   ]
  },
  {
   "cell_type": "code",
   "execution_count": 206,
   "metadata": {
    "ExecuteTime": {
     "end_time": "2019-05-05T22:01:10.213636Z",
     "start_time": "2019-05-05T22:01:08.017059Z"
    }
   },
   "outputs": [
    {
     "name": "stdout",
     "output_type": "stream",
     "text": [
      "TP: 498\n",
      "TN: 2413\n",
      "FP: 27\n",
      "FN: 62\n",
      "Cost loss: $ 33700\n"
     ]
    },
    {
     "data": {
      "image/png": "[encoded data removed]",
      "text/plain": [
       "<matplotlib.figure.Figure at 0x1a321e0b38>"
      ]
     },
     "metadata": {},
     "output_type": "display_data"
    },
    {
     "name": "stdout",
     "output_type": "stream",
     "text": [
      "\n",
      "----------Classification Report------------------------------------\n",
      "              precision    recall  f1-score   support\n",
      "\n",
      "           0       0.97      0.99      0.98      2440\n",
      "           1       0.95      0.89      0.92       560\n",
      "\n",
      "   micro avg       0.97      0.97      0.97      3000\n",
      "   macro avg       0.96      0.94      0.95      3000\n",
      "weighted avg       0.97      0.97      0.97      3000\n",
      "\n"
     ]
    }
   ],
   "source": [
    "rf= RandomForestClassifier(n_estimators=150,max_depth=50,criterion='gini')\n",
    "# train data using oversampled data and predict for the test data\n",
    "no_os_predict_y,no_rf_predict_y=model(rf,data_train_X,data_test_X,data_train_y,data_test_y)\n"
   ]
  },
  {
   "cell_type": "code",
   "execution_count": 207,
   "metadata": {
    "ExecuteTime": {
     "end_time": "2019-05-05T22:01:15.096540Z",
     "start_time": "2019-05-05T22:01:12.703979Z"
    }
   },
   "outputs": [
    {
     "name": "stdout",
     "output_type": "stream",
     "text": [
      "TP: 530\n",
      "TN: 2355\n",
      "FP: 85\n",
      "FN: 30\n",
      "Cost loss: $ 23500\n"
     ]
    },
    {
     "data": {
      "image/png": "[encoded data removed]",
      "text/plain": [
       "<matplotlib.figure.Figure at 0x10fe45128>"
      ]
     },
     "metadata": {},
     "output_type": "display_data"
    },
    {
     "name": "stdout",
     "output_type": "stream",
     "text": [
      "\n",
      "----------Classification Report------------------------------------\n",
      "              precision    recall  f1-score   support\n",
      "\n",
      "           0       0.99      0.97      0.98      2440\n",
      "           1       0.86      0.95      0.90       560\n",
      "\n",
      "   micro avg       0.96      0.96      0.96      3000\n",
      "   macro avg       0.92      0.96      0.94      3000\n",
      "weighted avg       0.96      0.96      0.96      3000\n",
      "\n"
     ]
    }
   ],
   "source": [
    "rf_os= RandomForestClassifier(n_estimators=100,max_depth=50,criterion='entropy')\n",
    "# train data using oversampled data and predict for the test data\n",
    "predict_y,rf_predict_y=model(rf_os,os_data_X,data_test_X,os_data_y,data_test_y)\n"
   ]
  },
  {
   "cell_type": "markdown",
   "metadata": {},
   "source": [
    "Based on cufusion matrix, there are 95 misclassified customers in the model without sampling, and 144 customers are misclassified in the model with sampling. And after comparing f1-score, it looks like that the performance in the first model is slightly better than the second one. However, based on cost loss function, the second model only \"waste\" \\$23500, which is less than \\$33700 from first one.\n",
    "\n",
    "Therefore, I would recommend the second model, the dataset with sampling.\n"
   ]
  },
  {
   "cell_type": "code",
   "execution_count": 192,
   "metadata": {
    "ExecuteTime": {
     "end_time": "2019-05-05T21:20:54.151619Z",
     "start_time": "2019-05-05T21:20:54.120077Z"
    }
   },
   "outputs": [
    {
     "data": {
      "text/html": [
       "<div>\n",
       "<style scoped>\n",
       "    .dataframe tbody tr th:only-of-type {\n",
       "        vertical-align: middle;\n",
       "    }\n",
       "\n",
       "    .dataframe tbody tr th {\n",
       "        vertical-align: top;\n",
       "    }\n",
       "\n",
       "    .dataframe thead th {\n",
       "        text-align: right;\n",
       "    }\n",
       "</style>\n",
       "<table border=\"1\" class=\"dataframe\">\n",
       "  <thead>\n",
       "    <tr style=\"text-align: right;\">\n",
       "      <th></th>\n",
       "      <th>importance</th>\n",
       "    </tr>\n",
       "  </thead>\n",
       "  <tbody>\n",
       "    <tr>\n",
       "      <th>2018-Summer-count</th>\n",
       "      <td>0.174132</td>\n",
       "    </tr>\n",
       "    <tr>\n",
       "      <th>2018-Summer-amount</th>\n",
       "      <td>0.141891</td>\n",
       "    </tr>\n",
       "    <tr>\n",
       "      <th>2018-Spring-count</th>\n",
       "      <td>0.109313</td>\n",
       "    </tr>\n",
       "    <tr>\n",
       "      <th>2018-Spring-amount</th>\n",
       "      <td>0.093248</td>\n",
       "    </tr>\n",
       "    <tr>\n",
       "      <th>2019-Spring-count</th>\n",
       "      <td>0.054264</td>\n",
       "    </tr>\n",
       "    <tr>\n",
       "      <th>2019-Spring-amount</th>\n",
       "      <td>0.051868</td>\n",
       "    </tr>\n",
       "    <tr>\n",
       "      <th>2018-Winter-count</th>\n",
       "      <td>0.051226</td>\n",
       "    </tr>\n",
       "    <tr>\n",
       "      <th>2018-Fall-count</th>\n",
       "      <td>0.047496</td>\n",
       "    </tr>\n",
       "    <tr>\n",
       "      <th>2017-Fall-count</th>\n",
       "      <td>0.045852</td>\n",
       "    </tr>\n",
       "    <tr>\n",
       "      <th>2018-Winter-amount</th>\n",
       "      <td>0.045671</td>\n",
       "    </tr>\n",
       "    <tr>\n",
       "      <th>2018-Fall-amount</th>\n",
       "      <td>0.044835</td>\n",
       "    </tr>\n",
       "    <tr>\n",
       "      <th>2017-Winter-count</th>\n",
       "      <td>0.039945</td>\n",
       "    </tr>\n",
       "    <tr>\n",
       "      <th>2017-Fall-amount</th>\n",
       "      <td>0.037884</td>\n",
       "    </tr>\n",
       "    <tr>\n",
       "      <th>2017-Winter-amount</th>\n",
       "      <td>0.036317</td>\n",
       "    </tr>\n",
       "    <tr>\n",
       "      <th>2017-Summer-count</th>\n",
       "      <td>0.013257</td>\n",
       "    </tr>\n",
       "    <tr>\n",
       "      <th>2017-Summer-amount</th>\n",
       "      <td>0.012801</td>\n",
       "    </tr>\n",
       "  </tbody>\n",
       "</table>\n",
       "</div>"
      ],
      "text/plain": [
       "                    importance\n",
       "2018-Summer-count     0.174132\n",
       "2018-Summer-amount    0.141891\n",
       "2018-Spring-count     0.109313\n",
       "2018-Spring-amount    0.093248\n",
       "2019-Spring-count     0.054264\n",
       "2019-Spring-amount    0.051868\n",
       "2018-Winter-count     0.051226\n",
       "2018-Fall-count       0.047496\n",
       "2017-Fall-count       0.045852\n",
       "2018-Winter-amount    0.045671\n",
       "2018-Fall-amount      0.044835\n",
       "2017-Winter-count     0.039945\n",
       "2017-Fall-amount      0.037884\n",
       "2017-Winter-amount    0.036317\n",
       "2017-Summer-count     0.013257\n",
       "2017-Summer-amount    0.012801"
      ]
     },
     "execution_count": 192,
     "metadata": {},
     "output_type": "execute_result"
    }
   ],
   "source": [
    "pd.DataFrame(rf.feature_importances_,index = os_data_X.columns, columns=['importance']).sort_values('importance', ascending=False)"
   ]
  },
  {
   "cell_type": "markdown",
   "metadata": {},
   "source": [
    "Based on feature importance, 2018 summer and spring are most important factors to influence customer behavior. In contrast, 2017 summer and winter are least important factors, the potential reason for 2017 summer is it only last 1 month in the dataset, transaction activity might be more active in June and July than Augest."
   ]
  },
  {
   "cell_type": "markdown",
   "metadata": {},
   "source": [
    "# Summary"
   ]
  },
  {
   "cell_type": "markdown",
   "metadata": {},
   "source": [
    "In order to extend our research, I assume the dataset is from credit card record. Then we can define \"churn\" in credit card industry that customer don't use their account over 12 months. And because the transaction of credit card is highly influenced by seasonallity, we seperate two features, count and amount, to spring, summer, fall, and winter in eacch year.\n",
    "\n",
    "Regarding the ratio of churn and normal, it has slightly imbalanced issue. Therefore, in order to make sure whether it is necessary to do sampling-SMOTE or not, we will evaluate two performance between data with sampling and data without sampling.\n",
    "\n",
    "In data modeling, I choose Random Forest as my model( providing feature importance and handling unbalance data). Regarding the metric, we use F1-score also define another metric cost loss function, which is calculated the cost from false positive and false negative.    \n",
    "\n",
    "In model evaluation, although f1-score from the model with sampling is slightly worse than the model without sampling. However, based on cost loss function, the cost loss from the model wtih sampling is less \\$10,000 than the model without sampling. Therefore, the model with sampling can be the best model to predict churn problem.\n"
   ]
  },
  {
   "cell_type": "markdown",
   "metadata": {},
   "source": [
    "##  Future Work"
   ]
  },
  {
   "cell_type": "code",
   "execution_count": 208,
   "metadata": {
    "ExecuteTime": {
     "end_time": "2019-05-05T22:01:56.485469Z",
     "start_time": "2019-05-05T22:01:56.446007Z"
    }
   },
   "outputs": [],
   "source": [
    "test_data=data_combine.loc[data_test_y.index,:]\n",
    "test_data['predict_label'] = predict_y.tolist()\n",
    "test_data=test_data.join(df_account.loc[data_test_y.index,:])\n",
    "FN_df=test_data.loc[(test_data['label']!=test_data['predict_label'])&(test_data['label']==1),]"
   ]
  },
  {
   "cell_type": "code",
   "execution_count": 217,
   "metadata": {
    "ExecuteTime": {
     "end_time": "2019-05-05T22:09:03.066552Z",
     "start_time": "2019-05-05T22:09:02.990782Z"
    }
   },
   "outputs": [
    {
     "data": {
      "text/html": [
       "<div>\n",
       "<style scoped>\n",
       "    .dataframe tbody tr th:only-of-type {\n",
       "        vertical-align: middle;\n",
       "    }\n",
       "\n",
       "    .dataframe tbody tr th {\n",
       "        vertical-align: top;\n",
       "    }\n",
       "\n",
       "    .dataframe thead th {\n",
       "        text-align: right;\n",
       "    }\n",
       "</style>\n",
       "<table border=\"1\" class=\"dataframe\">\n",
       "  <thead>\n",
       "    <tr style=\"text-align: right;\">\n",
       "      <th></th>\n",
       "      <th>2017-Summer-amount</th>\n",
       "      <th>2017-Summer-count</th>\n",
       "      <th>2017-Fall-amount</th>\n",
       "      <th>2017-Fall-count</th>\n",
       "      <th>2017-Winter-amount</th>\n",
       "      <th>2017-Winter-count</th>\n",
       "      <th>2018-Spring-amount</th>\n",
       "      <th>2018-Spring-count</th>\n",
       "      <th>2018-Summer-amount</th>\n",
       "      <th>2018-Summer-count</th>\n",
       "      <th>2018-Fall-amount</th>\n",
       "      <th>2018-Fall-count</th>\n",
       "      <th>2018-Winter-amount</th>\n",
       "      <th>2018-Winter-count</th>\n",
       "      <th>2019-Spring-amount</th>\n",
       "      <th>2019-Spring-count</th>\n",
       "      <th>label</th>\n",
       "      <th>predict_label</th>\n",
       "      <th>account</th>\n",
       "    </tr>\n",
       "  </thead>\n",
       "  <tbody>\n",
       "    <tr>\n",
       "      <th>9030</th>\n",
       "      <td>2363.418956</td>\n",
       "      <td>640.0</td>\n",
       "      <td>1085.906576</td>\n",
       "      <td>416.000000</td>\n",
       "      <td>1853.437476</td>\n",
       "      <td>357.333333</td>\n",
       "      <td>1683.181006</td>\n",
       "      <td>437.333333</td>\n",
       "      <td>0.000000</td>\n",
       "      <td>0.000000</td>\n",
       "      <td>0.000000</td>\n",
       "      <td>0.000000</td>\n",
       "      <td>0.000000</td>\n",
       "      <td>0.000000</td>\n",
       "      <td>0.000000</td>\n",
       "      <td>0.0</td>\n",
       "      <td>1</td>\n",
       "      <td>0</td>\n",
       "      <td>e824a0184e81be073e0eaa5bca874d8a</td>\n",
       "    </tr>\n",
       "    <tr>\n",
       "      <th>7625</th>\n",
       "      <td>0.000000</td>\n",
       "      <td>0.0</td>\n",
       "      <td>0.000000</td>\n",
       "      <td>0.000000</td>\n",
       "      <td>0.000000</td>\n",
       "      <td>0.000000</td>\n",
       "      <td>0.000000</td>\n",
       "      <td>0.000000</td>\n",
       "      <td>271.683833</td>\n",
       "      <td>80.000000</td>\n",
       "      <td>1053.351846</td>\n",
       "      <td>285.000000</td>\n",
       "      <td>1281.231543</td>\n",
       "      <td>290.000000</td>\n",
       "      <td>1232.448589</td>\n",
       "      <td>315.0</td>\n",
       "      <td>1</td>\n",
       "      <td>0</td>\n",
       "      <td>c6d9cd87113e6f7da2f58bb50ecfe3f8</td>\n",
       "    </tr>\n",
       "    <tr>\n",
       "      <th>1343</th>\n",
       "      <td>5127.333713</td>\n",
       "      <td>2180.0</td>\n",
       "      <td>143.884151</td>\n",
       "      <td>86.666667</td>\n",
       "      <td>2147.404845</td>\n",
       "      <td>666.666667</td>\n",
       "      <td>13811.969673</td>\n",
       "      <td>4573.333333</td>\n",
       "      <td>6576.281701</td>\n",
       "      <td>2100.000000</td>\n",
       "      <td>0.000000</td>\n",
       "      <td>0.000000</td>\n",
       "      <td>0.000000</td>\n",
       "      <td>0.000000</td>\n",
       "      <td>0.000000</td>\n",
       "      <td>0.0</td>\n",
       "      <td>1</td>\n",
       "      <td>0</td>\n",
       "      <td>21532345e8aef75c2564278c96f14a3c</td>\n",
       "    </tr>\n",
       "    <tr>\n",
       "      <th>2437</th>\n",
       "      <td>0.000000</td>\n",
       "      <td>0.0</td>\n",
       "      <td>0.000000</td>\n",
       "      <td>0.000000</td>\n",
       "      <td>0.000000</td>\n",
       "      <td>0.000000</td>\n",
       "      <td>1117.857834</td>\n",
       "      <td>498.666667</td>\n",
       "      <td>463.196082</td>\n",
       "      <td>249.333333</td>\n",
       "      <td>785.727090</td>\n",
       "      <td>322.666667</td>\n",
       "      <td>0.000000</td>\n",
       "      <td>0.000000</td>\n",
       "      <td>0.000000</td>\n",
       "      <td>0.0</td>\n",
       "      <td>1</td>\n",
       "      <td>0</td>\n",
       "      <td>3e24bfda7b4c6e7670a4456e7bb8f564</td>\n",
       "    </tr>\n",
       "    <tr>\n",
       "      <th>3858</th>\n",
       "      <td>0.000000</td>\n",
       "      <td>0.0</td>\n",
       "      <td>700.667709</td>\n",
       "      <td>240.000000</td>\n",
       "      <td>0.000000</td>\n",
       "      <td>0.000000</td>\n",
       "      <td>0.000000</td>\n",
       "      <td>0.000000</td>\n",
       "      <td>0.000000</td>\n",
       "      <td>0.000000</td>\n",
       "      <td>595.595248</td>\n",
       "      <td>240.000000</td>\n",
       "      <td>3214.253991</td>\n",
       "      <td>345.000000</td>\n",
       "      <td>1180.984443</td>\n",
       "      <td>390.0</td>\n",
       "      <td>1</td>\n",
       "      <td>0</td>\n",
       "      <td>63789cb305e08414b1ab16d88dc39054</td>\n",
       "    </tr>\n",
       "    <tr>\n",
       "      <th>7149</th>\n",
       "      <td>3923.795819</td>\n",
       "      <td>1394.0</td>\n",
       "      <td>6115.137633</td>\n",
       "      <td>855.666667</td>\n",
       "      <td>1568.325126</td>\n",
       "      <td>283.333333</td>\n",
       "      <td>9137.057706</td>\n",
       "      <td>1609.333333</td>\n",
       "      <td>0.000000</td>\n",
       "      <td>0.000000</td>\n",
       "      <td>0.000000</td>\n",
       "      <td>0.000000</td>\n",
       "      <td>9.082986</td>\n",
       "      <td>5.666667</td>\n",
       "      <td>0.000000</td>\n",
       "      <td>0.0</td>\n",
       "      <td>1</td>\n",
       "      <td>0</td>\n",
       "      <td>b9e69d140a644c7e62bcb1138402eefd</td>\n",
       "    </tr>\n",
       "    <tr>\n",
       "      <th>2767</th>\n",
       "      <td>0.000000</td>\n",
       "      <td>0.0</td>\n",
       "      <td>0.000000</td>\n",
       "      <td>0.000000</td>\n",
       "      <td>0.000000</td>\n",
       "      <td>0.000000</td>\n",
       "      <td>0.000000</td>\n",
       "      <td>0.000000</td>\n",
       "      <td>7188.465565</td>\n",
       "      <td>490.000000</td>\n",
       "      <td>5983.446203</td>\n",
       "      <td>1176.000000</td>\n",
       "      <td>20686.760729</td>\n",
       "      <td>1414.000000</td>\n",
       "      <td>5512.198195</td>\n",
       "      <td>1106.0</td>\n",
       "      <td>1</td>\n",
       "      <td>0</td>\n",
       "      <td>468249cec333116d47b60cffdc7d6b37</td>\n",
       "    </tr>\n",
       "    <tr>\n",
       "      <th>947</th>\n",
       "      <td>0.000000</td>\n",
       "      <td>0.0</td>\n",
       "      <td>0.000000</td>\n",
       "      <td>0.000000</td>\n",
       "      <td>0.000000</td>\n",
       "      <td>0.000000</td>\n",
       "      <td>0.000000</td>\n",
       "      <td>0.000000</td>\n",
       "      <td>1024.558843</td>\n",
       "      <td>110.000000</td>\n",
       "      <td>5962.856253</td>\n",
       "      <td>775.000000</td>\n",
       "      <td>4641.465776</td>\n",
       "      <td>810.000000</td>\n",
       "      <td>2534.800771</td>\n",
       "      <td>450.0</td>\n",
       "      <td>1</td>\n",
       "      <td>0</td>\n",
       "      <td>17e6d668815a7684f25b9de62f1a5606</td>\n",
       "    </tr>\n",
       "    <tr>\n",
       "      <th>3921</th>\n",
       "      <td>0.000000</td>\n",
       "      <td>0.0</td>\n",
       "      <td>0.000000</td>\n",
       "      <td>0.000000</td>\n",
       "      <td>0.000000</td>\n",
       "      <td>0.000000</td>\n",
       "      <td>0.000000</td>\n",
       "      <td>0.000000</td>\n",
       "      <td>342.996093</td>\n",
       "      <td>240.000000</td>\n",
       "      <td>765.518579</td>\n",
       "      <td>646.666667</td>\n",
       "      <td>853.286968</td>\n",
       "      <td>380.000000</td>\n",
       "      <td>167.946484</td>\n",
       "      <td>160.0</td>\n",
       "      <td>1</td>\n",
       "      <td>0</td>\n",
       "      <td>651ad5590aeb8823ba2630d6a279dcf1</td>\n",
       "    </tr>\n",
       "    <tr>\n",
       "      <th>9174</th>\n",
       "      <td>0.000000</td>\n",
       "      <td>0.0</td>\n",
       "      <td>0.000000</td>\n",
       "      <td>0.000000</td>\n",
       "      <td>0.000000</td>\n",
       "      <td>0.000000</td>\n",
       "      <td>0.000000</td>\n",
       "      <td>0.000000</td>\n",
       "      <td>575.220436</td>\n",
       "      <td>106.666667</td>\n",
       "      <td>2611.127945</td>\n",
       "      <td>620.000000</td>\n",
       "      <td>975.397859</td>\n",
       "      <td>446.666667</td>\n",
       "      <td>577.132218</td>\n",
       "      <td>100.0</td>\n",
       "      <td>1</td>\n",
       "      <td>0</td>\n",
       "      <td>ebea136cab00019532b30acac1c5130b</td>\n",
       "    </tr>\n",
       "    <tr>\n",
       "      <th>2051</th>\n",
       "      <td>0.000000</td>\n",
       "      <td>0.0</td>\n",
       "      <td>852.155941</td>\n",
       "      <td>177.333333</td>\n",
       "      <td>1259.687178</td>\n",
       "      <td>270.666667</td>\n",
       "      <td>1346.869409</td>\n",
       "      <td>266.000000</td>\n",
       "      <td>0.000000</td>\n",
       "      <td>0.000000</td>\n",
       "      <td>0.000000</td>\n",
       "      <td>0.000000</td>\n",
       "      <td>0.000000</td>\n",
       "      <td>0.000000</td>\n",
       "      <td>0.000000</td>\n",
       "      <td>0.0</td>\n",
       "      <td>1</td>\n",
       "      <td>0</td>\n",
       "      <td>355ce78d6b78345130ab0b7259ff6ced</td>\n",
       "    </tr>\n",
       "    <tr>\n",
       "      <th>6000</th>\n",
       "      <td>0.000000</td>\n",
       "      <td>0.0</td>\n",
       "      <td>0.000000</td>\n",
       "      <td>0.000000</td>\n",
       "      <td>0.000000</td>\n",
       "      <td>0.000000</td>\n",
       "      <td>0.000000</td>\n",
       "      <td>0.000000</td>\n",
       "      <td>682.339006</td>\n",
       "      <td>315.000000</td>\n",
       "      <td>2456.033872</td>\n",
       "      <td>1010.000000</td>\n",
       "      <td>1900.074437</td>\n",
       "      <td>685.000000</td>\n",
       "      <td>852.326682</td>\n",
       "      <td>300.0</td>\n",
       "      <td>1</td>\n",
       "      <td>0</td>\n",
       "      <td>9bbb7a21217406148c596e5fa51fe728</td>\n",
       "    </tr>\n",
       "    <tr>\n",
       "      <th>12</th>\n",
       "      <td>4856.000868</td>\n",
       "      <td>595.0</td>\n",
       "      <td>8044.123793</td>\n",
       "      <td>770.666667</td>\n",
       "      <td>0.000000</td>\n",
       "      <td>0.000000</td>\n",
       "      <td>0.000000</td>\n",
       "      <td>0.000000</td>\n",
       "      <td>16970.523170</td>\n",
       "      <td>1762.333333</td>\n",
       "      <td>8582.072909</td>\n",
       "      <td>878.333333</td>\n",
       "      <td>0.000000</td>\n",
       "      <td>0.000000</td>\n",
       "      <td>0.000000</td>\n",
       "      <td>0.0</td>\n",
       "      <td>1</td>\n",
       "      <td>0</td>\n",
       "      <td>0039009cb2e1243cdddcb106ef22b1fa</td>\n",
       "    </tr>\n",
       "    <tr>\n",
       "      <th>4605</th>\n",
       "      <td>9614.920412</td>\n",
       "      <td>357.0</td>\n",
       "      <td>8430.261819</td>\n",
       "      <td>725.333333</td>\n",
       "      <td>9742.304335</td>\n",
       "      <td>476.000000</td>\n",
       "      <td>5078.371257</td>\n",
       "      <td>181.333333</td>\n",
       "      <td>0.000000</td>\n",
       "      <td>0.000000</td>\n",
       "      <td>0.000000</td>\n",
       "      <td>0.000000</td>\n",
       "      <td>0.000000</td>\n",
       "      <td>0.000000</td>\n",
       "      <td>0.000000</td>\n",
       "      <td>0.0</td>\n",
       "      <td>1</td>\n",
       "      <td>0</td>\n",
       "      <td>76f00c9ac875adee61dfef51f01fcc10</td>\n",
       "    </tr>\n",
       "    <tr>\n",
       "      <th>6198</th>\n",
       "      <td>0.000000</td>\n",
       "      <td>0.0</td>\n",
       "      <td>0.000000</td>\n",
       "      <td>0.000000</td>\n",
       "      <td>0.000000</td>\n",
       "      <td>0.000000</td>\n",
       "      <td>0.000000</td>\n",
       "      <td>0.000000</td>\n",
       "      <td>1184.300182</td>\n",
       "      <td>156.000000</td>\n",
       "      <td>5076.228535</td>\n",
       "      <td>515.666667</td>\n",
       "      <td>6481.669541</td>\n",
       "      <td>507.000000</td>\n",
       "      <td>2160.266296</td>\n",
       "      <td>247.0</td>\n",
       "      <td>1</td>\n",
       "      <td>0</td>\n",
       "      <td>a17474110a9e6e84ba7d8a9a66544f0a</td>\n",
       "    </tr>\n",
       "    <tr>\n",
       "      <th>6570</th>\n",
       "      <td>0.000000</td>\n",
       "      <td>0.0</td>\n",
       "      <td>0.000000</td>\n",
       "      <td>0.000000</td>\n",
       "      <td>0.000000</td>\n",
       "      <td>0.000000</td>\n",
       "      <td>763.445142</td>\n",
       "      <td>144.000000</td>\n",
       "      <td>2938.981273</td>\n",
       "      <td>533.333333</td>\n",
       "      <td>2500.496685</td>\n",
       "      <td>432.000000</td>\n",
       "      <td>402.914989</td>\n",
       "      <td>69.333333</td>\n",
       "      <td>0.000000</td>\n",
       "      <td>0.0</td>\n",
       "      <td>1</td>\n",
       "      <td>0</td>\n",
       "      <td>ab5378e8ef4eb125213273b0eed07172</td>\n",
       "    </tr>\n",
       "    <tr>\n",
       "      <th>4991</th>\n",
       "      <td>0.000000</td>\n",
       "      <td>0.0</td>\n",
       "      <td>2757.386537</td>\n",
       "      <td>90.666667</td>\n",
       "      <td>8164.133608</td>\n",
       "      <td>544.000000</td>\n",
       "      <td>22209.749933</td>\n",
       "      <td>940.666667</td>\n",
       "      <td>1255.232849</td>\n",
       "      <td>90.666667</td>\n",
       "      <td>0.000000</td>\n",
       "      <td>0.000000</td>\n",
       "      <td>0.000000</td>\n",
       "      <td>0.000000</td>\n",
       "      <td>0.000000</td>\n",
       "      <td>0.0</td>\n",
       "      <td>1</td>\n",
       "      <td>0</td>\n",
       "      <td>8133477096b78a748ab972a7fed51abf</td>\n",
       "    </tr>\n",
       "    <tr>\n",
       "      <th>5305</th>\n",
       "      <td>0.000000</td>\n",
       "      <td>0.0</td>\n",
       "      <td>0.000000</td>\n",
       "      <td>0.000000</td>\n",
       "      <td>0.000000</td>\n",
       "      <td>0.000000</td>\n",
       "      <td>0.000000</td>\n",
       "      <td>0.000000</td>\n",
       "      <td>162.378381</td>\n",
       "      <td>198.000000</td>\n",
       "      <td>609.949817</td>\n",
       "      <td>516.000000</td>\n",
       "      <td>1363.949350</td>\n",
       "      <td>570.000000</td>\n",
       "      <td>704.702292</td>\n",
       "      <td>252.0</td>\n",
       "      <td>1</td>\n",
       "      <td>0</td>\n",
       "      <td>894fde2702d249b230c2cd2c92dbb649</td>\n",
       "    </tr>\n",
       "    <tr>\n",
       "      <th>9096</th>\n",
       "      <td>0.000000</td>\n",
       "      <td>0.0</td>\n",
       "      <td>0.000000</td>\n",
       "      <td>0.000000</td>\n",
       "      <td>0.000000</td>\n",
       "      <td>0.000000</td>\n",
       "      <td>0.000000</td>\n",
       "      <td>0.000000</td>\n",
       "      <td>241.412541</td>\n",
       "      <td>304.000000</td>\n",
       "      <td>1706.220953</td>\n",
       "      <td>533.333333</td>\n",
       "      <td>392.440388</td>\n",
       "      <td>565.333333</td>\n",
       "      <td>146.701191</td>\n",
       "      <td>224.0</td>\n",
       "      <td>1</td>\n",
       "      <td>0</td>\n",
       "      <td>e9ebda1db4eff36a0582969cd981bee4</td>\n",
       "    </tr>\n",
       "    <tr>\n",
       "      <th>2290</th>\n",
       "      <td>0.000000</td>\n",
       "      <td>0.0</td>\n",
       "      <td>0.000000</td>\n",
       "      <td>0.000000</td>\n",
       "      <td>1063.864009</td>\n",
       "      <td>210.000000</td>\n",
       "      <td>932.569755</td>\n",
       "      <td>186.000000</td>\n",
       "      <td>2144.566864</td>\n",
       "      <td>102.000000</td>\n",
       "      <td>3495.507060</td>\n",
       "      <td>348.000000</td>\n",
       "      <td>0.000000</td>\n",
       "      <td>0.000000</td>\n",
       "      <td>0.000000</td>\n",
       "      <td>0.0</td>\n",
       "      <td>1</td>\n",
       "      <td>0</td>\n",
       "      <td>3adea884c3d4589bf729c894a63fad33</td>\n",
       "    </tr>\n",
       "    <tr>\n",
       "      <th>17</th>\n",
       "      <td>59650.430141</td>\n",
       "      <td>3406.0</td>\n",
       "      <td>112781.701042</td>\n",
       "      <td>6413.333333</td>\n",
       "      <td>72542.329510</td>\n",
       "      <td>3739.666667</td>\n",
       "      <td>6617.042082</td>\n",
       "      <td>450.666667</td>\n",
       "      <td>0.000000</td>\n",
       "      <td>0.000000</td>\n",
       "      <td>0.000000</td>\n",
       "      <td>0.000000</td>\n",
       "      <td>0.000000</td>\n",
       "      <td>0.000000</td>\n",
       "      <td>0.000000</td>\n",
       "      <td>0.0</td>\n",
       "      <td>1</td>\n",
       "      <td>0</td>\n",
       "      <td>0068f24577b917e198a90493eb425bb9</td>\n",
       "    </tr>\n",
       "    <tr>\n",
       "      <th>3301</th>\n",
       "      <td>0.000000</td>\n",
       "      <td>0.0</td>\n",
       "      <td>0.000000</td>\n",
       "      <td>0.000000</td>\n",
       "      <td>0.000000</td>\n",
       "      <td>0.000000</td>\n",
       "      <td>0.000000</td>\n",
       "      <td>0.000000</td>\n",
       "      <td>426.092715</td>\n",
       "      <td>36.000000</td>\n",
       "      <td>1940.495602</td>\n",
       "      <td>160.000000</td>\n",
       "      <td>2171.609940</td>\n",
       "      <td>156.000000</td>\n",
       "      <td>983.520355</td>\n",
       "      <td>72.0</td>\n",
       "      <td>1</td>\n",
       "      <td>0</td>\n",
       "      <td>53ba541647423e993937b0342cc401b7</td>\n",
       "    </tr>\n",
       "    <tr>\n",
       "      <th>129</th>\n",
       "      <td>13569.109782</td>\n",
       "      <td>1190.0</td>\n",
       "      <td>21215.966093</td>\n",
       "      <td>1660.000000</td>\n",
       "      <td>21074.807009</td>\n",
       "      <td>1660.000000</td>\n",
       "      <td>7465.533593</td>\n",
       "      <td>480.000000</td>\n",
       "      <td>0.000000</td>\n",
       "      <td>0.000000</td>\n",
       "      <td>0.000000</td>\n",
       "      <td>0.000000</td>\n",
       "      <td>0.000000</td>\n",
       "      <td>0.000000</td>\n",
       "      <td>0.000000</td>\n",
       "      <td>0.0</td>\n",
       "      <td>1</td>\n",
       "      <td>0</td>\n",
       "      <td>032500d860b1d2f1c503c2ea77e674e7</td>\n",
       "    </tr>\n",
       "    <tr>\n",
       "      <th>6448</th>\n",
       "      <td>0.000000</td>\n",
       "      <td>0.0</td>\n",
       "      <td>0.000000</td>\n",
       "      <td>0.000000</td>\n",
       "      <td>0.000000</td>\n",
       "      <td>0.000000</td>\n",
       "      <td>0.000000</td>\n",
       "      <td>0.000000</td>\n",
       "      <td>2899.240846</td>\n",
       "      <td>684.000000</td>\n",
       "      <td>21454.914706</td>\n",
       "      <td>3834.000000</td>\n",
       "      <td>14962.269613</td>\n",
       "      <td>2544.000000</td>\n",
       "      <td>7513.984840</td>\n",
       "      <td>1548.0</td>\n",
       "      <td>1</td>\n",
       "      <td>0</td>\n",
       "      <td>a8645baee9fad335d1e800eb52e175ed</td>\n",
       "    </tr>\n",
       "    <tr>\n",
       "      <th>9656</th>\n",
       "      <td>0.000000</td>\n",
       "      <td>0.0</td>\n",
       "      <td>0.000000</td>\n",
       "      <td>0.000000</td>\n",
       "      <td>0.000000</td>\n",
       "      <td>0.000000</td>\n",
       "      <td>0.000000</td>\n",
       "      <td>0.000000</td>\n",
       "      <td>742.543490</td>\n",
       "      <td>198.000000</td>\n",
       "      <td>3588.018282</td>\n",
       "      <td>1350.000000</td>\n",
       "      <td>6007.166742</td>\n",
       "      <td>1692.000000</td>\n",
       "      <td>1937.758032</td>\n",
       "      <td>954.0</td>\n",
       "      <td>1</td>\n",
       "      <td>0</td>\n",
       "      <td>f7e761859921d69a875dd959fc67bcec</td>\n",
       "    </tr>\n",
       "    <tr>\n",
       "      <th>8297</th>\n",
       "      <td>0.000000</td>\n",
       "      <td>0.0</td>\n",
       "      <td>0.000000</td>\n",
       "      <td>0.000000</td>\n",
       "      <td>0.000000</td>\n",
       "      <td>0.000000</td>\n",
       "      <td>0.000000</td>\n",
       "      <td>0.000000</td>\n",
       "      <td>44778.575262</td>\n",
       "      <td>1178.666667</td>\n",
       "      <td>77226.625309</td>\n",
       "      <td>2080.000000</td>\n",
       "      <td>2324.897697</td>\n",
       "      <td>117.000000</td>\n",
       "      <td>48604.971247</td>\n",
       "      <td>1677.0</td>\n",
       "      <td>1</td>\n",
       "      <td>0</td>\n",
       "      <td>d722574c4089fd6005ee2cfb54dcd8d4</td>\n",
       "    </tr>\n",
       "    <tr>\n",
       "      <th>2424</th>\n",
       "      <td>0.000000</td>\n",
       "      <td>0.0</td>\n",
       "      <td>0.000000</td>\n",
       "      <td>0.000000</td>\n",
       "      <td>0.000000</td>\n",
       "      <td>0.000000</td>\n",
       "      <td>0.000000</td>\n",
       "      <td>0.000000</td>\n",
       "      <td>856.018094</td>\n",
       "      <td>78.000000</td>\n",
       "      <td>2028.483477</td>\n",
       "      <td>228.000000</td>\n",
       "      <td>3039.787155</td>\n",
       "      <td>174.000000</td>\n",
       "      <td>2575.416091</td>\n",
       "      <td>108.0</td>\n",
       "      <td>1</td>\n",
       "      <td>0</td>\n",
       "      <td>3df6c223c5367129af43dfcbb364de17</td>\n",
       "    </tr>\n",
       "    <tr>\n",
       "      <th>2425</th>\n",
       "      <td>0.000000</td>\n",
       "      <td>0.0</td>\n",
       "      <td>0.000000</td>\n",
       "      <td>0.000000</td>\n",
       "      <td>0.000000</td>\n",
       "      <td>0.000000</td>\n",
       "      <td>0.000000</td>\n",
       "      <td>0.000000</td>\n",
       "      <td>279.227423</td>\n",
       "      <td>86.666667</td>\n",
       "      <td>1501.440860</td>\n",
       "      <td>560.000000</td>\n",
       "      <td>875.929614</td>\n",
       "      <td>413.333333</td>\n",
       "      <td>505.292260</td>\n",
       "      <td>300.0</td>\n",
       "      <td>1</td>\n",
       "      <td>0</td>\n",
       "      <td>3df85b620f963a84d9901c61299bf553</td>\n",
       "    </tr>\n",
       "    <tr>\n",
       "      <th>9345</th>\n",
       "      <td>0.000000</td>\n",
       "      <td>0.0</td>\n",
       "      <td>0.000000</td>\n",
       "      <td>0.000000</td>\n",
       "      <td>0.000000</td>\n",
       "      <td>0.000000</td>\n",
       "      <td>0.000000</td>\n",
       "      <td>0.000000</td>\n",
       "      <td>221.573721</td>\n",
       "      <td>173.333333</td>\n",
       "      <td>227.281478</td>\n",
       "      <td>93.333333</td>\n",
       "      <td>2765.487602</td>\n",
       "      <td>1140.000000</td>\n",
       "      <td>2684.227708</td>\n",
       "      <td>1120.0</td>\n",
       "      <td>1</td>\n",
       "      <td>0</td>\n",
       "      <td>f05c68f9a34f37c13d84253f43d96cef</td>\n",
       "    </tr>\n",
       "    <tr>\n",
       "      <th>9665</th>\n",
       "      <td>0.000000</td>\n",
       "      <td>0.0</td>\n",
       "      <td>55.862284</td>\n",
       "      <td>39.000000</td>\n",
       "      <td>215.010815</td>\n",
       "      <td>43.333333</td>\n",
       "      <td>566.832644</td>\n",
       "      <td>86.666667</td>\n",
       "      <td>2219.070314</td>\n",
       "      <td>667.333333</td>\n",
       "      <td>186.922228</td>\n",
       "      <td>104.000000</td>\n",
       "      <td>0.573302</td>\n",
       "      <td>4.333333</td>\n",
       "      <td>0.000000</td>\n",
       "      <td>0.0</td>\n",
       "      <td>1</td>\n",
       "      <td>0</td>\n",
       "      <td>f817d7a4801aa72f744623fb0c26ce94</td>\n",
       "    </tr>\n",
       "  </tbody>\n",
       "</table>\n",
       "</div>"
      ],
      "text/plain": [
       "      2017-Summer-amount  2017-Summer-count  2017-Fall-amount  2017-Fall-count  2017-Winter-amount  2017-Winter-count  2018-Spring-amount  2018-Spring-count  2018-Summer-amount  2018-Summer-count  2018-Fall-amount  2018-Fall-count  2018-Winter-amount  2018-Winter-count  2019-Spring-amount  2019-Spring-count  label  predict_label                           account\n",
       "9030         2363.418956              640.0       1085.906576       416.000000         1853.437476         357.333333         1683.181006         437.333333            0.000000           0.000000          0.000000         0.000000            0.000000           0.000000            0.000000                0.0      1              0  e824a0184e81be073e0eaa5bca874d8a\n",
       "7625            0.000000                0.0          0.000000         0.000000            0.000000           0.000000            0.000000           0.000000          271.683833          80.000000       1053.351846       285.000000         1281.231543         290.000000         1232.448589              315.0      1              0  c6d9cd87113e6f7da2f58bb50ecfe3f8\n",
       "1343         5127.333713             2180.0        143.884151        86.666667         2147.404845         666.666667        13811.969673        4573.333333         6576.281701        2100.000000          0.000000         0.000000            0.000000           0.000000            0.000000                0.0      1              0  21532345e8aef75c2564278c96f14a3c\n",
       "2437            0.000000                0.0          0.000000         0.000000            0.000000           0.000000         1117.857834         498.666667          463.196082         249.333333        785.727090       322.666667            0.000000           0.000000            0.000000                0.0      1              0  3e24bfda7b4c6e7670a4456e7bb8f564\n",
       "3858            0.000000                0.0        700.667709       240.000000            0.000000           0.000000            0.000000           0.000000            0.000000           0.000000        595.595248       240.000000         3214.253991         345.000000         1180.984443              390.0      1              0  63789cb305e08414b1ab16d88dc39054\n",
       "7149         3923.795819             1394.0       6115.137633       855.666667         1568.325126         283.333333         9137.057706        1609.333333            0.000000           0.000000          0.000000         0.000000            9.082986           5.666667            0.000000                0.0      1              0  b9e69d140a644c7e62bcb1138402eefd\n",
       "2767            0.000000                0.0          0.000000         0.000000            0.000000           0.000000            0.000000           0.000000         7188.465565         490.000000       5983.446203      1176.000000        20686.760729        1414.000000         5512.198195             1106.0      1              0  468249cec333116d47b60cffdc7d6b37\n",
       "947             0.000000                0.0          0.000000         0.000000            0.000000           0.000000            0.000000           0.000000         1024.558843         110.000000       5962.856253       775.000000         4641.465776         810.000000         2534.800771              450.0      1              0  17e6d668815a7684f25b9de62f1a5606\n",
       "3921            0.000000                0.0          0.000000         0.000000            0.000000           0.000000            0.000000           0.000000          342.996093         240.000000        765.518579       646.666667          853.286968         380.000000          167.946484              160.0      1              0  651ad5590aeb8823ba2630d6a279dcf1\n",
       "9174            0.000000                0.0          0.000000         0.000000            0.000000           0.000000            0.000000           0.000000          575.220436         106.666667       2611.127945       620.000000          975.397859         446.666667          577.132218              100.0      1              0  ebea136cab00019532b30acac1c5130b\n",
       "2051            0.000000                0.0        852.155941       177.333333         1259.687178         270.666667         1346.869409         266.000000            0.000000           0.000000          0.000000         0.000000            0.000000           0.000000            0.000000                0.0      1              0  355ce78d6b78345130ab0b7259ff6ced\n",
       "6000            0.000000                0.0          0.000000         0.000000            0.000000           0.000000            0.000000           0.000000          682.339006         315.000000       2456.033872      1010.000000         1900.074437         685.000000          852.326682              300.0      1              0  9bbb7a21217406148c596e5fa51fe728\n",
       "12           4856.000868              595.0       8044.123793       770.666667            0.000000           0.000000            0.000000           0.000000        16970.523170        1762.333333       8582.072909       878.333333            0.000000           0.000000            0.000000                0.0      1              0  0039009cb2e1243cdddcb106ef22b1fa\n",
       "4605         9614.920412              357.0       8430.261819       725.333333         9742.304335         476.000000         5078.371257         181.333333            0.000000           0.000000          0.000000         0.000000            0.000000           0.000000            0.000000                0.0      1              0  76f00c9ac875adee61dfef51f01fcc10\n",
       "6198            0.000000                0.0          0.000000         0.000000            0.000000           0.000000            0.000000           0.000000         1184.300182         156.000000       5076.228535       515.666667         6481.669541         507.000000         2160.266296              247.0      1              0  a17474110a9e6e84ba7d8a9a66544f0a\n",
       "6570            0.000000                0.0          0.000000         0.000000            0.000000           0.000000          763.445142         144.000000         2938.981273         533.333333       2500.496685       432.000000          402.914989          69.333333            0.000000                0.0      1              0  ab5378e8ef4eb125213273b0eed07172\n",
       "4991            0.000000                0.0       2757.386537        90.666667         8164.133608         544.000000        22209.749933         940.666667         1255.232849          90.666667          0.000000         0.000000            0.000000           0.000000            0.000000                0.0      1              0  8133477096b78a748ab972a7fed51abf\n",
       "5305            0.000000                0.0          0.000000         0.000000            0.000000           0.000000            0.000000           0.000000          162.378381         198.000000        609.949817       516.000000         1363.949350         570.000000          704.702292              252.0      1              0  894fde2702d249b230c2cd2c92dbb649\n",
       "9096            0.000000                0.0          0.000000         0.000000            0.000000           0.000000            0.000000           0.000000          241.412541         304.000000       1706.220953       533.333333          392.440388         565.333333          146.701191              224.0      1              0  e9ebda1db4eff36a0582969cd981bee4\n",
       "2290            0.000000                0.0          0.000000         0.000000         1063.864009         210.000000          932.569755         186.000000         2144.566864         102.000000       3495.507060       348.000000            0.000000           0.000000            0.000000                0.0      1              0  3adea884c3d4589bf729c894a63fad33\n",
       "17          59650.430141             3406.0     112781.701042      6413.333333        72542.329510        3739.666667         6617.042082         450.666667            0.000000           0.000000          0.000000         0.000000            0.000000           0.000000            0.000000                0.0      1              0  0068f24577b917e198a90493eb425bb9\n",
       "3301            0.000000                0.0          0.000000         0.000000            0.000000           0.000000            0.000000           0.000000          426.092715          36.000000       1940.495602       160.000000         2171.609940         156.000000          983.520355               72.0      1              0  53ba541647423e993937b0342cc401b7\n",
       "129         13569.109782             1190.0      21215.966093      1660.000000        21074.807009        1660.000000         7465.533593         480.000000            0.000000           0.000000          0.000000         0.000000            0.000000           0.000000            0.000000                0.0      1              0  032500d860b1d2f1c503c2ea77e674e7\n",
       "6448            0.000000                0.0          0.000000         0.000000            0.000000           0.000000            0.000000           0.000000         2899.240846         684.000000      21454.914706      3834.000000        14962.269613        2544.000000         7513.984840             1548.0      1              0  a8645baee9fad335d1e800eb52e175ed\n",
       "9656            0.000000                0.0          0.000000         0.000000            0.000000           0.000000            0.000000           0.000000          742.543490         198.000000       3588.018282      1350.000000         6007.166742        1692.000000         1937.758032              954.0      1              0  f7e761859921d69a875dd959fc67bcec\n",
       "8297            0.000000                0.0          0.000000         0.000000            0.000000           0.000000            0.000000           0.000000        44778.575262        1178.666667      77226.625309      2080.000000         2324.897697         117.000000        48604.971247             1677.0      1              0  d722574c4089fd6005ee2cfb54dcd8d4\n",
       "2424            0.000000                0.0          0.000000         0.000000            0.000000           0.000000            0.000000           0.000000          856.018094          78.000000       2028.483477       228.000000         3039.787155         174.000000         2575.416091              108.0      1              0  3df6c223c5367129af43dfcbb364de17\n",
       "2425            0.000000                0.0          0.000000         0.000000            0.000000           0.000000            0.000000           0.000000          279.227423          86.666667       1501.440860       560.000000          875.929614         413.333333          505.292260              300.0      1              0  3df85b620f963a84d9901c61299bf553\n",
       "9345            0.000000                0.0          0.000000         0.000000            0.000000           0.000000            0.000000           0.000000          221.573721         173.333333        227.281478        93.333333         2765.487602        1140.000000         2684.227708             1120.0      1              0  f05c68f9a34f37c13d84253f43d96cef\n",
       "9665            0.000000                0.0         55.862284        39.000000          215.010815          43.333333          566.832644          86.666667         2219.070314         667.333333        186.922228       104.000000            0.573302           4.333333            0.000000                0.0      1              0  f817d7a4801aa72f744623fb0c26ce94"
      ]
     },
     "execution_count": 217,
     "metadata": {},
     "output_type": "execute_result"
    }
   ],
   "source": [
    "FN_df"
   ]
  },
  {
   "cell_type": "code",
   "execution_count": 219,
   "metadata": {
    "ExecuteTime": {
     "end_time": "2019-05-05T22:09:17.710567Z",
     "start_time": "2019-05-05T22:09:17.699669Z"
    }
   },
   "outputs": [
    {
     "data": {
      "text/plain": [
       "16"
      ]
     },
     "execution_count": 219,
     "metadata": {},
     "output_type": "execute_result"
    }
   ],
   "source": [
    "len(FN_df.loc[(FN_df['2017-Summer-count']==0)&(FN_df['2017-Fall-count']==0)&(FN_df['2017-Winter-count']==0)&(FN_df['2018-Spring-count']==0),])"
   ]
  },
  {
   "cell_type": "markdown",
   "metadata": {},
   "source": [
    "Based on the customer information in false positive shown above, the main customer behavior (it accounts for over 50%) is that the model doesn't learn well when they didn't do any transaction from 2017 summer to 2018 spring but did a lot after 2018 summer. The potential reason is the credit card from customer has different bonus categories in different quarters. Therefore, customer might not be interested in these categories from 2017 to 2018 spring.\n",
    "It would be better for training the model in the future if we can know what kind of credit card in each transaction."
   ]
  },
  {
   "cell_type": "code",
   "execution_count": null,
   "metadata": {},
   "outputs": [],
   "source": []
  }
 ],
 "metadata": {
  "kernelspec": {
   "display_name": "Python 3",
   "language": "python",
   "name": "python3"
  },
  "language_info": {
   "codemirror_mode": {
    "name": "ipython",
    "version": 3
   },
   "file_extension": ".py",
   "mimetype": "text/x-python",
   "name": "python",
   "nbconvert_exporter": "python",
   "pygments_lexer": "ipython3",
   "version": "3.6.4"
  },
  "varInspector": {
   "cols": {
    "lenName": 16,
    "lenType": 16,
    "lenVar": 40
   },
   "kernels_config": {
    "python": {
     "delete_cmd_postfix": "",
     "delete_cmd_prefix": "del ",
     "library": "var_list.py",
     "varRefreshCmd": "print(var_dic_list())"
    },
    "r": {
     "delete_cmd_postfix": ") ",
     "delete_cmd_prefix": "rm(",
     "library": "var_list.r",
     "varRefreshCmd": "cat(var_dic_list()) "
    }
   },
   "types_to_exclude": [
    "module",
    "function",
    "builtin_function_or_method",
    "instance",
    "_Feature"
   ],
   "window_display": false
  }
 },
 "nbformat": 4,
 "nbformat_minor": 2
}
