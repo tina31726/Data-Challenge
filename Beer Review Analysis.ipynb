{
 "cells": [
  {
   "cell_type": "code",
   "execution_count": 1,
   "metadata": {
    "ExecuteTime": {
     "end_time": "2018-03-29T02:02:34.883957Z",
     "start_time": "2018-03-29T02:02:26.375203Z"
    }
   },
   "outputs": [
    {
     "data": {
      "text/plain": [
       "1586614"
      ]
     },
     "execution_count": 1,
     "metadata": {},
     "output_type": "execute_result"
    }
   ],
   "source": [
    "import pandas as pd\n",
    "import matplotlib.pyplot as plt\n",
    "df = pd.read_csv('beer_reviews.csv')\n",
    "len(df)"
   ]
  },
  {
   "cell_type": "code",
   "execution_count": 121,
   "metadata": {
    "ExecuteTime": {
     "end_time": "2018-03-29T05:29:14.989596Z",
     "start_time": "2018-03-29T05:29:14.904478Z"
    }
   },
   "outputs": [
    {
     "data": {
      "text/plain": [
       "3.8155808533140387"
      ]
     },
     "execution_count": 121,
     "metadata": {},
     "output_type": "execute_result"
    }
   ],
   "source": [
    "np.mean(df['review_overall'])"
   ]
  },
  {
   "cell_type": "code",
   "execution_count": 2,
   "metadata": {
    "ExecuteTime": {
     "end_time": "2018-03-29T02:02:43.147878Z",
     "start_time": "2018-03-29T02:02:42.187051Z"
    },
    "scrolled": true
   },
   "outputs": [
    {
     "data": {
      "text/html": [
       "<div>\n",
       "<style>\n",
       "    .dataframe thead tr:only-child th {\n",
       "        text-align: right;\n",
       "    }\n",
       "\n",
       "    .dataframe thead th {\n",
       "        text-align: left;\n",
       "    }\n",
       "\n",
       "    .dataframe tbody tr th {\n",
       "        vertical-align: top;\n",
       "    }\n",
       "</style>\n",
       "<table border=\"1\" class=\"dataframe\">\n",
       "  <thead>\n",
       "    <tr style=\"text-align: right;\">\n",
       "      <th></th>\n",
       "      <th>brewery_id</th>\n",
       "      <th>brewery_name</th>\n",
       "      <th>review_time</th>\n",
       "      <th>review_overall</th>\n",
       "      <th>review_aroma</th>\n",
       "      <th>review_appearance</th>\n",
       "      <th>review_profilename</th>\n",
       "      <th>beer_style</th>\n",
       "      <th>review_palate</th>\n",
       "      <th>review_taste</th>\n",
       "      <th>beer_name</th>\n",
       "      <th>beer_abv</th>\n",
       "      <th>beer_beerid</th>\n",
       "    </tr>\n",
       "  </thead>\n",
       "  <tbody>\n",
       "    <tr>\n",
       "      <th>12919</th>\n",
       "      <td>6513</td>\n",
       "      <td>Schorschbräu</td>\n",
       "      <td>1316780901</td>\n",
       "      <td>4.0</td>\n",
       "      <td>4.0</td>\n",
       "      <td>4.0</td>\n",
       "      <td>kappldav123</td>\n",
       "      <td>Eisbock</td>\n",
       "      <td>4.0</td>\n",
       "      <td>3.5</td>\n",
       "      <td>Schorschbräu Schorschbock 57%</td>\n",
       "      <td>57.7</td>\n",
       "      <td>73368</td>\n",
       "    </tr>\n",
       "  </tbody>\n",
       "</table>\n",
       "</div>"
      ],
      "text/plain": [
       "       brewery_id  brewery_name  review_time  review_overall  review_aroma  \\\n",
       "12919        6513  Schorschbräu   1316780901             4.0           4.0   \n",
       "\n",
       "       review_appearance review_profilename beer_style  review_palate  \\\n",
       "12919                4.0        kappldav123    Eisbock            4.0   \n",
       "\n",
       "       review_taste                      beer_name  beer_abv  beer_beerid  \n",
       "12919           3.5  Schorschbräu Schorschbock 57%      57.7        73368  "
      ]
     },
     "execution_count": 2,
     "metadata": {},
     "output_type": "execute_result"
    }
   ],
   "source": [
    "df.sort_values(by='beer_abv', ascending=False)[0:1]\n"
   ]
  },
  {
   "cell_type": "markdown",
   "metadata": {},
   "source": [
    "1. Regarding sorting beer_abv result, \"Schorschbräu\" produces the strongest beers by ABV%"
   ]
  },
  {
   "cell_type": "code",
   "execution_count": 152,
   "metadata": {
    "ExecuteTime": {
     "end_time": "2018-03-29T13:44:23.976468Z",
     "start_time": "2018-03-29T13:44:22.408075Z"
    }
   },
   "outputs": [
    {
     "data": {
      "image/png": "[encoded data removed]",
      "text/plain": [
       "<matplotlib.figure.Figure at 0x1146e1be0>"
      ]
     },
     "metadata": {},
     "output_type": "display_data"
    }
   ],
   "source": [
    "df['review_overall'].hist()\n",
    "plt.title('review_overall distribution')\n",
    "plt.show()"
   ]
  },
  {
   "cell_type": "code",
   "execution_count": 113,
   "metadata": {
    "ExecuteTime": {
     "end_time": "2018-03-29T05:05:22.117341Z",
     "start_time": "2018-03-29T05:05:20.863015Z"
    }
   },
   "outputs": [],
   "source": [
    "# print(len(df))\n",
    "df_statistic=df[['beer_name', 'review_overall']].groupby(['beer_name']).agg(['mean', 'count','std']).reset_index()\n",
    "# df_statistic.sort_values([('review_overall', 'count')], ascending=False)\n"
   ]
  },
  {
   "cell_type": "markdown",
   "metadata": {},
   "source": [
    "There are 56857 beers, 1586614 reviews"
   ]
  },
  {
   "cell_type": "code",
   "execution_count": 181,
   "metadata": {
    "ExecuteTime": {
     "end_time": "2018-03-29T14:29:42.021118Z",
     "start_time": "2018-03-29T14:29:41.454343Z"
    }
   },
   "outputs": [
    {
     "name": "stdout",
     "output_type": "stream",
     "text": [
      "[array([1.00e+00, 1.00e+00, 1.00e+00, 1.00e+00, 1.00e+00, 1.00e+00,\n",
      "       1.00e+00, 1.00e+00, 1.00e+00, 1.00e+00, 1.00e+00, 1.00e+00,\n",
      "       1.00e+00, 1.00e+00, 1.00e+00, 1.00e+00, 1.00e+00, 1.00e+00,\n",
      "       1.00e+00, 1.00e+00, 1.00e+00, 1.00e+00, 1.00e+00, 1.00e+00,\n",
      "       1.00e+00, 1.00e+00, 1.00e+00, 1.00e+00, 1.00e+00, 1.00e+00,\n",
      "       1.00e+00, 1.00e+00, 1.00e+00, 2.00e+00, 2.00e+00, 2.00e+00,\n",
      "       2.00e+00, 2.00e+00, 2.00e+00, 2.00e+00, 2.00e+00, 2.00e+00,\n",
      "       2.00e+00, 2.00e+00, 2.00e+00, 2.00e+00, 2.00e+00, 2.00e+00,\n",
      "       3.00e+00, 3.00e+00, 3.00e+00, 3.00e+00, 3.00e+00, 3.00e+00,\n",
      "       3.00e+00, 3.00e+00, 4.00e+00, 4.00e+00, 4.00e+00, 4.00e+00,\n",
      "       4.00e+00, 4.00e+00, 5.00e+00, 5.00e+00, 5.00e+00, 5.00e+00,\n",
      "       6.00e+00, 6.00e+00, 6.00e+00, 7.00e+00, 7.00e+00, 7.00e+00,\n",
      "       8.00e+00, 8.00e+00, 9.00e+00, 1.00e+01, 1.00e+01, 1.10e+01,\n",
      "       1.20e+01, 1.30e+01, 1.50e+01, 1.60e+01, 1.80e+01, 2.00e+01,\n",
      "       2.20e+01, 2.50e+01, 2.80e+01, 3.20e+01, 3.70e+01, 4.30e+01,\n",
      "       5.00e+01, 5.90e+01, 7.10e+01, 8.80e+01, 1.13e+02, 1.48e+02,\n",
      "       2.07e+02, 3.10e+02, 5.32e+02, 3.29e+03])]\n"
     ]
    },
    {
     "data": {
      "image/png": "[encoded data removed]",
      "text/plain": [
       "<matplotlib.figure.Figure at 0x114d2d9e8>"
      ]
     },
     "metadata": {},
     "output_type": "display_data"
    }
   ],
   "source": [
    "review_overall_percentile = [np.percentile(df_statistic['review_overall']['count'], list(range(1,101)))]\n",
    "print(review_overall_percentile)\n",
    "plt.plot(list(range(1,101)),review_overall_percentile[0], marker='o', linestyle='solid',\n",
    "        linewidth=1, markersize=5)\n",
    "plt.title('beer with reviews distribution')\n",
    "plt.grid()\n",
    "plt.show()\n"
   ]
  },
  {
   "cell_type": "markdown",
   "metadata": {},
   "source": [
    "weighted rank (WR) = (v / (v+m)) × R + (m / (v+m)) × C\n",
    "\n",
    "where:\n",
    "R = review_overall mean for the beer\n",
    "v = number of reviews for the beer\n",
    "m = threshold of review number required\n",
    "C = review_overall mean for all beers"
   ]
  },
  {
   "cell_type": "code",
   "execution_count": 171,
   "metadata": {
    "ExecuteTime": {
     "end_time": "2018-03-29T14:14:10.115599Z",
     "start_time": "2018-03-29T14:14:09.992012Z"
    }
   },
   "outputs": [],
   "source": [
    "v=df_statistic['review_overall']['count']\n",
    "R=df_statistic['review_overall']['mean']\n",
    "C=np.mean(df['review_overall'])\n",
    "m=532"
   ]
  },
  {
   "cell_type": "code",
   "execution_count": 172,
   "metadata": {
    "ExecuteTime": {
     "end_time": "2018-03-29T14:14:17.504162Z",
     "start_time": "2018-03-29T14:14:11.248443Z"
    }
   },
   "outputs": [],
   "source": [
    "weighted_rank=[]\n",
    "for i in range(len(v)):\n",
    "    weighted_rank.append((v.iloc[i]/(v.iloc[i]+m))*R.iloc[i]\n",
    "                         +(m/(m+v.iloc[i]))*C)\n",
    "    "
   ]
  },
  {
   "cell_type": "code",
   "execution_count": 174,
   "metadata": {
    "ExecuteTime": {
     "end_time": "2018-03-29T14:14:41.804035Z",
     "start_time": "2018-03-29T14:14:41.668389Z"
    }
   },
   "outputs": [
    {
     "name": "stdout",
     "output_type": "stream",
     "text": [
      "4.455341292567201\n",
      "beer_name                Pliny The Elder\n",
      "review_overall  mean             4.59003\n",
      "                count               2527\n",
      "                std             0.455141\n",
      "Name: 39649, dtype: object\n",
      "4.381313200644717\n",
      "beer_name                Trappist Westvleteren 12\n",
      "review_overall  mean                      4.61792\n",
      "                count                        1272\n",
      "                std                      0.441112\n",
      "Name: 51855, dtype: object\n",
      "4.367643857526092\n",
      "beer_name                Weihenstephaner Hefeweissbier\n",
      "review_overall  mean                            4.5159\n",
      "                count                             1981\n",
      "                std                           0.466152\n",
      "Name: 54218, dtype: object\n",
      "4.277105550911956\n",
      "beer_name                Bell's Hopslam Ale\n",
      "review_overall  mean                4.37761\n",
      "                count                  2443\n",
      "                std                0.532677\n",
      "Name: 5447, dtype: object\n",
      "4.276949081256722\n",
      "beer_name                The Abyss\n",
      "review_overall  mean       4.45078\n",
      "                count         1412\n",
      "                std       0.500056\n",
      "Name: 50464, dtype: object\n",
      "4.271870541381115\n",
      "beer_name                Founders KBS (Kentucky Breakfast Stout)\n",
      "review_overall  mean                                     4.39752\n",
      "                count                                       1932\n",
      "                std                                     0.549803\n",
      "Name: 19392, dtype: object\n",
      "4.271567757926444\n",
      "beer_name                Tröegs Nugget Nectar\n",
      "review_overall  mean                  4.39565\n",
      "                count                    1955\n",
      "                std                  0.478137\n",
      "Name: 52260, dtype: object\n",
      "4.262149158154495\n",
      "beer_name                Sculpin India Pale Ale\n",
      "review_overall  mean                    4.43787\n",
      "                count                      1352\n",
      "                std                    0.464332\n",
      "Name: 45044, dtype: object\n",
      "4.260016154898837\n",
      "beer_name                Founders Breakfast Stout\n",
      "review_overall  mean                      4.35452\n",
      "                count                        2502\n",
      "                std                      0.500717\n",
      "Name: 19338, dtype: object\n",
      "4.248286054313571\n",
      "beer_name                  Duvel\n",
      "review_overall  mean     4.34224\n",
      "                count       2450\n",
      "                std      0.55809\n",
      "Name: 16610, dtype: object\n"
     ]
    }
   ],
   "source": [
    "sort_index=np.argsort(weighted_rank)[::-1]\n",
    "for i in range(10):\n",
    "    print(weighted_rank[sort_index[i]])\n",
    "    print(df_statistic.loc[sort_index[i]])"
   ]
  },
  {
   "cell_type": "markdown",
   "metadata": {},
   "source": []
  },
  {
   "cell_type": "markdown",
   "metadata": {},
   "source": [
    "\\2. In order to find my 3 recommendation, first I group each review by each beer and calculate each beer review_all mean and std(standard deviation). Since I consider that more reviews a beer has, the higher the “credibility” a beer get. I'm more inclined to recommend a beer that have many reviews. Based on the plot 'beer with reviews distribution', we can classify 3 group, first group from 1% to 95%, second group from 95% to 98%, third group from 98% to 100%. Regarding the last group, there is a huge gap between last 2%, 532 and 3290, so I'm more interested in to explore this group. \n",
    "And I use Bayesian Approach to give each beer weighting number based on their review_all mean and review number. The reason I use Bayesian Approach is 'review_overall distribution' is displayed as normal distribution.\n",
    "Regarding weighted rank formula, when we have a lot of ratings for a beer, then (v / (v+m)) is very close to 1, so our estimated rating is very close to its own rating and we pay little attention to the overall mean, and vice versa. And the reason I choose 532 to be my threshold is I want to explore third group from 'beer with reviews distribution'.\n",
    "Finally, I got 3 beers having top 3 weighted rank, 'Pliny The Elder', 'Trappist Westvleteren' and 'Weihenstephaner Hefeweissbier'."
   ]
  },
  {
   "cell_type": "code",
   "execution_count": 14,
   "metadata": {
    "ExecuteTime": {
     "end_time": "2018-03-28T04:01:51.478581Z",
     "start_time": "2018-03-28T04:01:50.118033Z"
    }
   },
   "outputs": [
    {
     "data": {
      "text/html": [
       "<style  type=\"text/css\" >\n",
       "    #T_beb9af52_323c_11e8_ae07_e0accb9b924crow0_col0 {\n",
       "            background-color:  #b40426;\n",
       "        }    #T_beb9af52_323c_11e8_ae07_e0accb9b924crow0_col1 {\n",
       "            background-color:  #85a8fc;\n",
       "        }    #T_beb9af52_323c_11e8_ae07_e0accb9b924crow0_col2 {\n",
       "            background-color:  #3b4cc0;\n",
       "        }    #T_beb9af52_323c_11e8_ae07_e0accb9b924crow0_col3 {\n",
       "            background-color:  #c0d4f5;\n",
       "        }    #T_beb9af52_323c_11e8_ae07_e0accb9b924crow0_col4 {\n",
       "            background-color:  #efcfbf;\n",
       "        }    #T_beb9af52_323c_11e8_ae07_e0accb9b924crow1_col0 {\n",
       "            background-color:  #6282ea;\n",
       "        }    #T_beb9af52_323c_11e8_ae07_e0accb9b924crow1_col1 {\n",
       "            background-color:  #b40426;\n",
       "        }    #T_beb9af52_323c_11e8_ae07_e0accb9b924crow1_col2 {\n",
       "            background-color:  #3b4cc0;\n",
       "        }    #T_beb9af52_323c_11e8_ae07_e0accb9b924crow1_col3 {\n",
       "            background-color:  #6282ea;\n",
       "        }    #T_beb9af52_323c_11e8_ae07_e0accb9b924crow1_col4 {\n",
       "            background-color:  #b1cbfc;\n",
       "        }    #T_beb9af52_323c_11e8_ae07_e0accb9b924crow2_col0 {\n",
       "            background-color:  #3b4cc0;\n",
       "        }    #T_beb9af52_323c_11e8_ae07_e0accb9b924crow2_col1 {\n",
       "            background-color:  #5f7fe8;\n",
       "        }    #T_beb9af52_323c_11e8_ae07_e0accb9b924crow2_col2 {\n",
       "            background-color:  #b40426;\n",
       "        }    #T_beb9af52_323c_11e8_ae07_e0accb9b924crow2_col3 {\n",
       "            background-color:  #6384eb;\n",
       "        }    #T_beb9af52_323c_11e8_ae07_e0accb9b924crow2_col4 {\n",
       "            background-color:  #5673e0;\n",
       "        }    #T_beb9af52_323c_11e8_ae07_e0accb9b924crow3_col0 {\n",
       "            background-color:  #a2c1ff;\n",
       "        }    #T_beb9af52_323c_11e8_ae07_e0accb9b924crow3_col1 {\n",
       "            background-color:  #5e7de7;\n",
       "        }    #T_beb9af52_323c_11e8_ae07_e0accb9b924crow3_col2 {\n",
       "            background-color:  #3b4cc0;\n",
       "        }    #T_beb9af52_323c_11e8_ae07_e0accb9b924crow3_col3 {\n",
       "            background-color:  #b40426;\n",
       "        }    #T_beb9af52_323c_11e8_ae07_e0accb9b924crow3_col4 {\n",
       "            background-color:  #bbd1f8;\n",
       "        }    #T_beb9af52_323c_11e8_ae07_e0accb9b924crow4_col0 {\n",
       "            background-color:  #e6d7cf;\n",
       "        }    #T_beb9af52_323c_11e8_ae07_e0accb9b924crow4_col1 {\n",
       "            background-color:  #b7cff9;\n",
       "        }    #T_beb9af52_323c_11e8_ae07_e0accb9b924crow4_col2 {\n",
       "            background-color:  #3b4cc0;\n",
       "        }    #T_beb9af52_323c_11e8_ae07_e0accb9b924crow4_col3 {\n",
       "            background-color:  #c4d5f3;\n",
       "        }    #T_beb9af52_323c_11e8_ae07_e0accb9b924crow4_col4 {\n",
       "            background-color:  #b40426;\n",
       "        }</style>  \n",
       "<table id=\"T_beb9af52_323c_11e8_ae07_e0accb9b924c\" > \n",
       "<thead>    <tr> \n",
       "        <th class=\"blank level0\" ></th> \n",
       "        <th class=\"col_heading level0 col0\" >review_overall</th> \n",
       "        <th class=\"col_heading level0 col1\" >review_aroma</th> \n",
       "        <th class=\"col_heading level0 col2\" >review_appearance</th> \n",
       "        <th class=\"col_heading level0 col3\" >review_palate</th> \n",
       "        <th class=\"col_heading level0 col4\" >review_taste</th> \n",
       "    </tr></thead> \n",
       "<tbody>    <tr> \n",
       "        <th id=\"T_beb9af52_323c_11e8_ae07_e0accb9b924clevel0_row0\" class=\"row_heading level0 row0\" >review_overall</th> \n",
       "        <td id=\"T_beb9af52_323c_11e8_ae07_e0accb9b924crow0_col0\" class=\"data row0 col0\" >1.0</td> \n",
       "        <td id=\"T_beb9af52_323c_11e8_ae07_e0accb9b924crow0_col1\" class=\"data row0 col1\" >0.62</td> \n",
       "        <td id=\"T_beb9af52_323c_11e8_ae07_e0accb9b924crow0_col2\" class=\"data row0 col2\" >0.5</td> \n",
       "        <td id=\"T_beb9af52_323c_11e8_ae07_e0accb9b924crow0_col3\" class=\"data row0 col3\" >0.7</td> \n",
       "        <td id=\"T_beb9af52_323c_11e8_ae07_e0accb9b924crow0_col4\" class=\"data row0 col4\" >0.79</td> \n",
       "    </tr>    <tr> \n",
       "        <th id=\"T_beb9af52_323c_11e8_ae07_e0accb9b924clevel0_row1\" class=\"row_heading level0 row1\" >review_aroma</th> \n",
       "        <td id=\"T_beb9af52_323c_11e8_ae07_e0accb9b924crow1_col0\" class=\"data row1 col0\" >0.62</td> \n",
       "        <td id=\"T_beb9af52_323c_11e8_ae07_e0accb9b924crow1_col1\" class=\"data row1 col1\" >1.0</td> \n",
       "        <td id=\"T_beb9af52_323c_11e8_ae07_e0accb9b924crow1_col2\" class=\"data row1 col2\" >0.56</td> \n",
       "        <td id=\"T_beb9af52_323c_11e8_ae07_e0accb9b924crow1_col3\" class=\"data row1 col3\" >0.62</td> \n",
       "        <td id=\"T_beb9af52_323c_11e8_ae07_e0accb9b924crow1_col4\" class=\"data row1 col4\" >0.72</td> \n",
       "    </tr>    <tr> \n",
       "        <th id=\"T_beb9af52_323c_11e8_ae07_e0accb9b924clevel0_row2\" class=\"row_heading level0 row2\" >review_appearance</th> \n",
       "        <td id=\"T_beb9af52_323c_11e8_ae07_e0accb9b924crow2_col0\" class=\"data row2 col0\" >0.5</td> \n",
       "        <td id=\"T_beb9af52_323c_11e8_ae07_e0accb9b924crow2_col1\" class=\"data row2 col1\" >0.56</td> \n",
       "        <td id=\"T_beb9af52_323c_11e8_ae07_e0accb9b924crow2_col2\" class=\"data row2 col2\" >1.0</td> \n",
       "        <td id=\"T_beb9af52_323c_11e8_ae07_e0accb9b924crow2_col3\" class=\"data row2 col3\" >0.57</td> \n",
       "        <td id=\"T_beb9af52_323c_11e8_ae07_e0accb9b924crow2_col4\" class=\"data row2 col4\" >0.55</td> \n",
       "    </tr>    <tr> \n",
       "        <th id=\"T_beb9af52_323c_11e8_ae07_e0accb9b924clevel0_row3\" class=\"row_heading level0 row3\" >review_palate</th> \n",
       "        <td id=\"T_beb9af52_323c_11e8_ae07_e0accb9b924crow3_col0\" class=\"data row3 col0\" >0.7</td> \n",
       "        <td id=\"T_beb9af52_323c_11e8_ae07_e0accb9b924crow3_col1\" class=\"data row3 col1\" >0.62</td> \n",
       "        <td id=\"T_beb9af52_323c_11e8_ae07_e0accb9b924crow3_col2\" class=\"data row3 col2\" >0.57</td> \n",
       "        <td id=\"T_beb9af52_323c_11e8_ae07_e0accb9b924crow3_col3\" class=\"data row3 col3\" >1.0</td> \n",
       "        <td id=\"T_beb9af52_323c_11e8_ae07_e0accb9b924crow3_col4\" class=\"data row3 col4\" >0.73</td> \n",
       "    </tr>    <tr> \n",
       "        <th id=\"T_beb9af52_323c_11e8_ae07_e0accb9b924clevel0_row4\" class=\"row_heading level0 row4\" >review_taste</th> \n",
       "        <td id=\"T_beb9af52_323c_11e8_ae07_e0accb9b924crow4_col0\" class=\"data row4 col0\" >0.79</td> \n",
       "        <td id=\"T_beb9af52_323c_11e8_ae07_e0accb9b924crow4_col1\" class=\"data row4 col1\" >0.72</td> \n",
       "        <td id=\"T_beb9af52_323c_11e8_ae07_e0accb9b924crow4_col2\" class=\"data row4 col2\" >0.55</td> \n",
       "        <td id=\"T_beb9af52_323c_11e8_ae07_e0accb9b924crow4_col3\" class=\"data row4 col3\" >0.73</td> \n",
       "        <td id=\"T_beb9af52_323c_11e8_ae07_e0accb9b924crow4_col4\" class=\"data row4 col4\" >1.0</td> \n",
       "    </tr></tbody> \n",
       "</table> "
      ],
      "text/plain": [
       "<pandas.io.formats.style.Styler at 0x122554438>"
      ]
     },
     "execution_count": 14,
     "metadata": {},
     "output_type": "execute_result"
    }
   ],
   "source": [
    "df[['review_overall','review_aroma','review_appearance','review_palate','review_taste']].corr(method='pearson').style.format(\"{:.2}\").background_gradient(cmap=plt.get_cmap('coolwarm'), axis=1)"
   ]
  },
  {
   "cell_type": "markdown",
   "metadata": {},
   "source": [
    "\\3. Based on review_overall and other 4 factors (aroma, taste, appearance, palette) correlation coefficient, taste is get the highest positive correlation with review_overall. Therefore, I consider that 'review_taste' is most important factor in determining the overall quality of a beer."
   ]
  },
  {
   "cell_type": "code",
   "execution_count": null,
   "metadata": {
    "ExecuteTime": {
     "end_time": "2018-03-28T03:59:31.982305Z",
     "start_time": "2018-03-28T03:59:22.290Z"
    },
    "code_folding": []
   },
   "outputs": [],
   "source": [
    "import matplotlib.pyplot as plt\n",
    "import numpy as np\n",
    "\n",
    "review_list=['review_overall','review_aroma','review_appearance','review_palate','review_taste']\n",
    "for review in review_list:         \n",
    "    Q1, median, Q3 = np.percentile(df[review], [25, 50, 75])\n",
    "    print(review)\n",
    "    print(\"Q1(25%) is \",Q1)\n",
    "    print(\"median is \",median)\n",
    "    print(\"Q3(75%) is \",Q3)\n",
    "    \n",
    "    \n",
    "# print(\"average between Q3 and Q1 is \",(Q3+Q1)/2)\n",
    "# plt.show()\n",
    "# plt.boxplot(df['review_taste'])\n",
    "# plt.show()"
   ]
  },
  {
   "cell_type": "code",
   "execution_count": 85,
   "metadata": {
    "ExecuteTime": {
     "end_time": "2018-03-29T03:47:36.408228Z",
     "start_time": "2018-03-29T03:47:35.702748Z"
    }
   },
   "outputs": [
    {
     "data": {
      "image/png": "[encoded data removed]",
      "text/plain": [
       "<matplotlib.figure.Figure at 0x113dfbb00>"
      ]
     },
     "metadata": {},
     "output_type": "display_data"
    },
    {
     "data": {
      "image/png": "[encoded data removed]",
      "text/plain": [
       "<matplotlib.figure.Figure at 0x112871ba8>"
      ]
     },
     "metadata": {},
     "output_type": "display_data"
    },
    {
     "data": {
      "text/plain": [
       "array([0.34, 0.52, 0.57, 0.75, 0.88, 1.  ])"
      ]
     },
     "execution_count": 85,
     "metadata": {},
     "output_type": "execute_result"
    }
   ],
   "source": [
    "import random\n",
    "import numpy as np\n",
    "def roll(bias_list):\n",
    "    bias_list=[0.34,0.18,0.05,0.18,0.13,0.12]\n",
    "    num=np.random.uniform(0,1)#return [0,1]\n",
    "    current=0\n",
    "    for n,bias in enumerate(bias_list):\n",
    "        current+=bias\n",
    "        if num<current:\n",
    "            return n+1\n",
    "\n",
    "bias_list=[0.34,0.18,0.05,0.18,0.13,0.12]\n",
    "plt.subplot(111)\n",
    "x = np.arange(6)\n",
    "plt.bar(x, np.cumsum(bias_list))\n",
    "plt.xticks(x+.01,x+1)\n",
    "plt.title('cumulative distributed function')\n",
    "plt.xlabel('rolling number')\n",
    "plt.ylabel('cumulative probability')\n",
    "plt.show()\n",
    "# plot the cumulative function\n",
    "rolling = [roll(bias_list) for _ in range(10000)]\n",
    "plt.subplot(111)\n",
    "plt.hist(rolling,align='left')\n",
    "plt.title('rolling number frequency')\n",
    "plt.xlabel('rolling number')\n",
    "plt.ylabel('frequency')\n",
    "plt.show()\n",
    "\n",
    "\n",
    "np.cumsum(bias_list)"
   ]
  },
  {
   "cell_type": "code",
   "execution_count": 182,
   "metadata": {
    "ExecuteTime": {
     "end_time": "2018-03-29T15:02:22.167897Z",
     "start_time": "2018-03-29T15:02:22.094939Z"
    }
   },
   "outputs": [
    {
     "name": "stdout",
     "output_type": "stream",
     "text": [
      "predict_x 2.9169\n",
      "expected_x 2.9399999999999995\n"
     ]
    }
   ],
   "source": [
    "predict_x=np.mean(rolling)\n",
    "std=np.std(rolling)\n",
    "print(\"predict_x\",predict_x)\n",
    "\n",
    "expected_x=0\n",
    "for k,v in enumerate(bias_list):\n",
    "    expected_x+=(k+1)*v\n",
    "\n",
    "print(\"expected_x\",expected_x)"
   ]
  },
  {
   "cell_type": "markdown",
   "metadata": {},
   "source": [
    "4. I use cumulative distributed function to display biased die, so I divide the section [0,1) to 6 parts depending on bias_list into the following: [0,0.34], [0.34,0.52], [0.52,0.57], [0.57,0.75], [0.75,0.88], [0.88,1] (check cumulative distributed function plot). Then I start generating 10000 time and draw in histogram (rolling number frequency), the distribution is really close to the probability of rolling number. Also, predict_expectation (2.9408) is close to true_expectation, too."
   ]
  }
 ],
 "metadata": {
  "kernelspec": {
   "display_name": "Python 3",
   "language": "python",
   "name": "python3"
  },
  "language_info": {
   "codemirror_mode": {
    "name": "ipython",
    "version": 3
   },
   "file_extension": ".py",
   "mimetype": "text/x-python",
   "name": "python",
   "nbconvert_exporter": "python",
   "pygments_lexer": "ipython3",
   "version": "3.6.4"
  },
  "varInspector": {
   "cols": {
    "lenName": 16,
    "lenType": 16,
    "lenVar": 40
   },
   "kernels_config": {
    "python": {
     "delete_cmd_postfix": "",
     "delete_cmd_prefix": "del ",
     "library": "var_list.py",
     "varRefreshCmd": "print(var_dic_list())"
    },
    "r": {
     "delete_cmd_postfix": ") ",
     "delete_cmd_prefix": "rm(",
     "library": "var_list.r",
     "varRefreshCmd": "cat(var_dic_list()) "
    }
   },
   "position": {
    "height": "236px",
    "left": "1072px",
    "right": "20px",
    "top": "148px",
    "width": "350px"
   },
   "types_to_exclude": [
    "module",
    "function",
    "builtin_function_or_method",
    "instance",
    "_Feature"
   ],
   "window_display": false
  }
 },
 "nbformat": 4,
 "nbformat_minor": 2
}
